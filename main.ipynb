{
 "cells": [
  {
   "cell_type": "markdown",
   "metadata": {},
   "source": [
    "# Goodreads Book Recommender\n",
    "\n",
    "This notebook extracts the information from a [Goodread's](https://www.goodreads.com) user and recommends a list of books based on the user's reviews, his or her friends', and the books' average ratings [1]. \n",
    "\n",
    "The notebook is divided in **four sections**: \n",
    "1. Extracts user information using Goodread's Web API.\n",
    "2. Prepares data for cleaning and analysis.\n",
    "3. Cleans and formats book data.\n",
    "4. Recommends a list of books for the user.\n",
    "\n",
    "\n",
    "#### Elements I'd like to add in the future\n",
    "- Include information of the user's friends with forbidden access in their accounts.\n",
    "- Automatically extract information of all the user's friends, not just some of them.\n",
    "- Exclude users with whom the user only has three or less books in common. Otherwise, their correlation might be too high, which might alter the final results. \n",
    "\n",
    "#### Pending improvements for the code\n",
    "- There are duplicates of books that appear in both the Spanish and English version.\n",
    "- The formula for recommending books might not be sufficiently calibrated. It may be giving more weight to some books and less weight to books of friends with whom the user has a negative taste correlation.\n",
    "\n",
    "[1] _Goodreads is a website in which users can sign up and register books to generate library catalogs and reading lists._"
   ]
  },
  {
   "cell_type": "code",
   "execution_count": 1,
   "metadata": {},
   "outputs": [],
   "source": [
    "# Import libraries\n",
    "import requests\n",
    "from bs4 import BeautifulSoup\n",
    "import time\n",
    "import pandas as pd\n",
    "import re\n",
    "import numpy as np\n",
    "import scipy.stats as st\n",
    "from datetime import datetime"
   ]
  },
  {
   "cell_type": "markdown",
   "metadata": {},
   "source": [
    "## 1. Get the shelf information of a user"
   ]
  },
  {
   "cell_type": "markdown",
   "metadata": {},
   "source": [
    "To communicate with its Web API, Goodreads requires developers to get a [key](https://www.goodreads.com/api). I have hidden mine in the following cell, but it should work with yours. "
   ]
  },
  {
   "cell_type": "code",
   "execution_count": 2,
   "metadata": {},
   "outputs": [],
   "source": [
    "# Key and website to access the Web API\n",
    "CONSUMER_KEY = ''\n",
    "url = \"https://www.goodreads.com/\""
   ]
  },
  {
   "cell_type": "markdown",
   "metadata": {},
   "source": [
    "The following functions combined extract the information of a user's shelf and return it in the form of a dictionary. \n",
    "\n",
    "NOTE: Goodreads has a shelf for books the user has read and another one for books the user wants to read. We will focus on the books already read. Also, note that shelves are displayed through multiple pages. \n"
   ]
  },
  {
   "cell_type": "code",
   "execution_count": 3,
   "metadata": {},
   "outputs": [],
   "source": [
    "def shelf_info(user_id, shelf, page):\n",
    "  \n",
    "    \"\"\"Returns a BeautifulSoup object of a single page of the user's shelf\"\"\"\n",
    "    \n",
    "    time.sleep(1.1) # To comply with the terms and conditions of Goodreads\n",
    "    info = requests.get(f'{url}/review/list?v=2&id={user_id}&shelf={shelf}&sort=title&page={page}&per_page=200&key={CONSUMER_KEY}')\n",
    "    print('Status code: ', info.status_code)\n",
    "    info_content = info.content\n",
    "    soup = BeautifulSoup(info_content, 'lxml')\n",
    "    return soup"
   ]
  },
  {
   "cell_type": "code",
   "execution_count": 4,
   "metadata": {},
   "outputs": [],
   "source": [
    "def paginas_por_estante(libros_en_estante):\n",
    "    \n",
    "    \"\"\"Returns how many pages are needed to display all the books in the user's shelf\"\"\"\n",
    "    \n",
    "    if libros_en_estante <= 200:\n",
    "        return 1\n",
    "    \n",
    "    elif libros_en_estante <= 400:\n",
    "        return 2\n",
    "    \n",
    "    elif libros_en_estante <= 600:\n",
    "        return 3\n",
    "    \n",
    "    elif libros_en_estante <= 800:\n",
    "        return 4\n",
    "    \n",
    "    elif libros_en_estante <= 1000:\n",
    "        return 5\n",
    "    \n",
    "    elif libros_en_estante <= 1200:\n",
    "        return 6\n",
    "\n",
    "    elif libros_en_estante <= 1400:\n",
    "        return 7\n",
    "    \n",
    "    elif libros_en_estante <= 1600:\n",
    "        return 8\n",
    "    \n",
    "    elif libros_en_estante <= 1800:\n",
    "        return 9\n",
    "    \n",
    "    elif libros_en_estante <= 2000:\n",
    "        return 10"
   ]
  },
  {
   "cell_type": "code",
   "execution_count": 5,
   "metadata": {},
   "outputs": [],
   "source": [
    "def extract_info(user_id, shelf, libros_en_estante):\n",
    "    \n",
    "    \"\"\"Returns a dictionary with all the information of the user's shelf\"\"\"\n",
    "    \n",
    "    diccionario = {}\n",
    "    \n",
    "    # Define variables of tags to keep adding info as I move through various pages.\n",
    "    isbn = []\n",
    "    title = []\n",
    "    num_pages = []\n",
    "    publisher = []\n",
    "    publication_year = []\n",
    "    name = []\n",
    "    rating = []\n",
    "    average_rating = []\n",
    "    ratings_count = []\n",
    "    links = []\n",
    "    \n",
    "    #Determine how many pages are in the shelf.\n",
    "    paginas_to_scrap = paginas_por_estante(libros_en_estante)\n",
    "    \n",
    "    # Get info of each page.\n",
    "    for x in range(1, paginas_to_scrap+1):\n",
    "        \n",
    "        # Get html code as a Soup object\n",
    "        page = shelf_info(user_id, shelf=shelf, page=x)\n",
    "        \n",
    "        # Get info of tags that do not repeat\n",
    "        \n",
    "        isbn_info = page.find_all(f'isbn')\n",
    "        isbn_info = [elem.get_text() for elem in isbn_info]\n",
    "        isbn.append(isbn_info)\n",
    "        \n",
    "        title_info = page.find_all(f'title')\n",
    "        title_info = [elem.get_text() for elem in title_info]\n",
    "        title.append(title_info)\n",
    "        \n",
    "        publisher_info = page.find_all(f'publisher')\n",
    "        publisher_info = [elem.get_text() for elem in publisher_info]\n",
    "        publisher.append(publisher_info)\n",
    "        \n",
    "        num_pages_info = page.find_all(f'num_pages')\n",
    "        num_pages_info = [elem.get_text() for elem in num_pages_info]\n",
    "        num_pages.append(num_pages_info)\n",
    "        \n",
    "        publication_year_info = page.find_all(f'publication_year')\n",
    "        publication_year_info = [elem.get_text() for elem in publication_year_info]\n",
    "        publication_year.append(publication_year_info)\n",
    "        \n",
    "        name_info = page.find_all(f'name')\n",
    "        name_info = [elem.get_text() for elem in name_info]\n",
    "        name.append(name_info)\n",
    "        \n",
    "        rating_info = page.find_all(f'rating')\n",
    "        rating_info = [elem.get_text() for elem in rating_info]\n",
    "        rating.append(rating_info)\n",
    "        \n",
    "        # Get info of repeated tags\n",
    "        review_blocks = page.find_all('review')\n",
    "        link_pattern = re.compile(r'www.goodreads.com.*')\n",
    "        \n",
    "        for review in review_blocks: \n",
    "            average_rating_info = review.find(f'average_rating').get_text()\n",
    "            average_rating.append(average_rating_info)\n",
    "\n",
    "            ratings_count_info = review.find(f'ratings_count').get_text()\n",
    "            ratings_count.append(ratings_count_info)\n",
    "            \n",
    "            # Obtener links        \n",
    "            if link_pattern.search(review.get_text()):\n",
    "                link = re.findall(link_pattern, review.get_text()) \n",
    "                links.append(link)\n",
    "    \n",
    "            else: \n",
    "                print('Missing: ', review.title)\n",
    "    \n",
    "    # Flatten variables with lists of lists\n",
    "    isbn = [elem for listt in isbn for elem in listt]\n",
    "    title = [elem for listt in title for elem in listt]\n",
    "    num_pages = [elem for listt in num_pages for elem in listt]\n",
    "    publisher = [elem for listt in publisher for elem in listt]\n",
    "    publication_year = [elem for listt in publication_year for elem in listt]\n",
    "    name = [elem for listt in name for elem in listt]\n",
    "    rating = [elem for listt in rating for elem in listt]\n",
    "    links = [elem[0] for elem in links]\n",
    "    \n",
    "    # Transform everything to a dictionary\n",
    "    diccionario[f'user_id'] = [user_id for x in range(0, len(isbn))]\n",
    "    diccionario[f'shelf'] = [shelf for x in range(0, len(isbn))]\n",
    "    \n",
    "    diccionario[f'isbn'] = isbn\n",
    "    diccionario[f'title'] = title\n",
    "    diccionario[f'author'] = name\n",
    "    diccionario[f'num_pages'] = num_pages\n",
    "    diccionario[f'publication_year'] = publication_year\n",
    "    diccionario[f'publisher'] = publisher\n",
    "    diccionario[f'my_rating'] = rating\n",
    "    \n",
    "    diccionario[f'average_rating'] = average_rating\n",
    "    diccionario[f'ratings_count'] = ratings_count\n",
    "    diccionario[f'links'] = links\n",
    "        \n",
    "    return diccionario\n"
   ]
  },
  {
   "cell_type": "markdown",
   "metadata": {},
   "source": [
    "To demonstrate, I will extract all the information in my shelf (user 'Francisco Galán')."
   ]
  },
  {
   "cell_type": "code",
   "execution_count": 6,
   "metadata": {},
   "outputs": [
    {
     "name": "stdout",
     "output_type": "stream",
     "text": [
      "Status code:  200\n",
      "Status code:  200\n"
     ]
    }
   ],
   "source": [
    "francisco_galan = extract_info('40732498', 'read', 276)"
   ]
  },
  {
   "cell_type": "code",
   "execution_count": 4,
   "metadata": {},
   "outputs": [],
   "source": [
    "# Save date of information\n",
    "time = datetime.now()\n",
    "time = now.strftime(\"%d/%m/%Y\")"
   ]
  },
  {
   "cell_type": "markdown",
   "metadata": {},
   "source": [
    "Also, I will extract the information of seven of my friends."
   ]
  },
  {
   "cell_type": "code",
   "execution_count": 7,
   "metadata": {
    "scrolled": true
   },
   "outputs": [
    {
     "name": "stdout",
     "output_type": "stream",
     "text": [
      "Status code:  200\n",
      "Status code:  200\n",
      "Status code:  200\n",
      "Status code:  200\n",
      "Status code:  200\n",
      "Status code:  200\n",
      "Status code:  200\n",
      "Status code:  200\n",
      "Status code:  200\n"
     ]
    }
   ],
   "source": [
    "nicolas_papa = extract_info('85738242', 'read', 87)\n",
    "fernando_lamoyi = extract_info('22410395', 'read', 104)\n",
    "cova_sv = extract_info('72222895', 'read', 52)\n",
    "mario_carballo = extract_info('18141767', 'read', 142)  \n",
    "andrea_raisman = extract_info('63716476', 'read', 416)\n",
    "vanessa_romero = extract_info('16421531', 'read', 96)  \n",
    "maria_lama = extract_info('68889321', 'read', 137)"
   ]
  },
  {
   "cell_type": "markdown",
   "metadata": {},
   "source": [
    "Finally, let's extract the information of three people I follow on Goodreads. "
   ]
  },
  {
   "cell_type": "code",
   "execution_count": 8,
   "metadata": {},
   "outputs": [
    {
     "name": "stdout",
     "output_type": "stream",
     "text": [
      "Status code:  200\n",
      "Status code:  200\n",
      "Status code:  200\n",
      "Status code:  200\n"
     ]
    }
   ],
   "source": [
    "eduardo_rosas = extract_info('51214176', 'read', 158)  \n",
    "stefan_schubert = extract_info('27953287', 'read', 142)\n",
    "bill_gates = extract_info('23470', 'read', 228)"
   ]
  },
  {
   "cell_type": "markdown",
   "metadata": {},
   "source": [
    "For a future version, I would also like to extract the information of three users with forbidden access. For example:\n",
    "- `srdjan_miletic = extract_info('11055732', 'read', 350)`\n",
    "- `pablo_staforini = extract_info('3093249', 'read', 1846)`\n",
    "- `alvaro_migoya = extract_info('57665930', 'read', 63)`  "
   ]
  },
  {
   "cell_type": "markdown",
   "metadata": {},
   "source": [
    "For simplicity, from now on I will refer to the user's friends and people who he follow as his **contacts**. "
   ]
  },
  {
   "cell_type": "markdown",
   "metadata": {},
   "source": [
    "## 2. Prepare data for cleaning and analysis"
   ]
  },
  {
   "cell_type": "markdown",
   "metadata": {},
   "source": [
    "Let's transform the extracted information to DataFrames."
   ]
  },
  {
   "cell_type": "code",
   "execution_count": 9,
   "metadata": {},
   "outputs": [],
   "source": [
    "data_francisco = pd.DataFrame(francisco_galan)\n",
    "data_nicolas = pd.DataFrame(nicolas_papa)\n",
    "data_fernando = pd.DataFrame(fernando_lamoyi)\n",
    "data_cova_sv = pd.DataFrame(cova_sv)\n",
    "data_mario = pd.DataFrame(mario_carballo)\n",
    "data_andrea = pd.DataFrame(andrea_raisman)\n",
    "data_vanessa = pd.DataFrame(vanessa_romero)\n",
    "data_maria = pd.DataFrame(maria_lama)\n",
    "data_eduardo = pd.DataFrame(eduardo_rosas)\n",
    "data_stefan = pd.DataFrame(stefan_schubert)\n",
    "data_bill = pd.DataFrame(bill_gates)"
   ]
  },
  {
   "cell_type": "markdown",
   "metadata": {},
   "source": [
    "Dataset example:"
   ]
  },
  {
   "cell_type": "code",
   "execution_count": 10,
   "metadata": {},
   "outputs": [
    {
     "data": {
      "text/html": [
       "<div>\n",
       "<style scoped>\n",
       "    .dataframe tbody tr th:only-of-type {\n",
       "        vertical-align: middle;\n",
       "    }\n",
       "\n",
       "    .dataframe tbody tr th {\n",
       "        vertical-align: top;\n",
       "    }\n",
       "\n",
       "    .dataframe thead th {\n",
       "        text-align: right;\n",
       "    }\n",
       "</style>\n",
       "<table border=\"1\" class=\"dataframe\">\n",
       "  <thead>\n",
       "    <tr style=\"text-align: right;\">\n",
       "      <th></th>\n",
       "      <th>user_id</th>\n",
       "      <th>shelf</th>\n",
       "      <th>isbn</th>\n",
       "      <th>title</th>\n",
       "      <th>author</th>\n",
       "      <th>num_pages</th>\n",
       "      <th>publication_year</th>\n",
       "      <th>publisher</th>\n",
       "      <th>my_rating</th>\n",
       "      <th>average_rating</th>\n",
       "      <th>ratings_count</th>\n",
       "      <th>links</th>\n",
       "    </tr>\n",
       "  </thead>\n",
       "  <tbody>\n",
       "    <tr>\n",
       "      <th>0</th>\n",
       "      <td>40732498</td>\n",
       "      <td>read</td>\n",
       "      <td></td>\n",
       "      <td>1984</td>\n",
       "      <td>George Orwell</td>\n",
       "      <td>328</td>\n",
       "      <td>1950</td>\n",
       "      <td>New American Library</td>\n",
       "      <td>4</td>\n",
       "      <td>4.19</td>\n",
       "      <td>3375259</td>\n",
       "      <td>www.goodreads.com/book/show/5470.1984</td>\n",
       "    </tr>\n",
       "    <tr>\n",
       "      <th>1</th>\n",
       "      <td>40732498</td>\n",
       "      <td>read</td>\n",
       "      <td>0451457994</td>\n",
       "      <td>2001: A Space Odyssey (Space Odyssey, #1)</td>\n",
       "      <td>Arthur C. Clarke</td>\n",
       "      <td>297</td>\n",
       "      <td>2000</td>\n",
       "      <td>Roc</td>\n",
       "      <td>3</td>\n",
       "      <td>4.15</td>\n",
       "      <td>270722</td>\n",
       "      <td>www.goodreads.com/book/show/70535.2001</td>\n",
       "    </tr>\n",
       "    <tr>\n",
       "      <th>2</th>\n",
       "      <td>40732498</td>\n",
       "      <td>read</td>\n",
       "      <td>0307465357</td>\n",
       "      <td>The 4-Hour Workweek: Escape 9-5, Live Anywhere...</td>\n",
       "      <td>Timothy Ferriss</td>\n",
       "      <td>396</td>\n",
       "      <td>2009</td>\n",
       "      <td>Harmony</td>\n",
       "      <td>3</td>\n",
       "      <td>3.90</td>\n",
       "      <td>210841</td>\n",
       "      <td>www.goodreads.com/book/show/6444424-the-4-hour...</td>\n",
       "    </tr>\n",
       "  </tbody>\n",
       "</table>\n",
       "</div>"
      ],
      "text/plain": [
       "    user_id shelf        isbn  \\\n",
       "0  40732498  read               \n",
       "1  40732498  read  0451457994   \n",
       "2  40732498  read  0307465357   \n",
       "\n",
       "                                               title            author  \\\n",
       "0                                               1984     George Orwell   \n",
       "1          2001: A Space Odyssey (Space Odyssey, #1)  Arthur C. Clarke   \n",
       "2  The 4-Hour Workweek: Escape 9-5, Live Anywhere...   Timothy Ferriss   \n",
       "\n",
       "  num_pages publication_year             publisher my_rating average_rating  \\\n",
       "0       328             1950  New American Library         4           4.19   \n",
       "1       297             2000                   Roc         3           4.15   \n",
       "2       396             2009               Harmony         3           3.90   \n",
       "\n",
       "  ratings_count                                              links  \n",
       "0       3375259              www.goodreads.com/book/show/5470.1984  \n",
       "1        270722             www.goodreads.com/book/show/70535.2001  \n",
       "2        210841  www.goodreads.com/book/show/6444424-the-4-hour...  "
      ]
     },
     "execution_count": 10,
     "metadata": {},
     "output_type": "execute_result"
    }
   ],
   "source": [
    "data_francisco.head(3)"
   ]
  },
  {
   "cell_type": "markdown",
   "metadata": {},
   "source": [
    "### 2.1 Modify column names"
   ]
  },
  {
   "cell_type": "markdown",
   "metadata": {},
   "source": [
    "Now, we should join all the datasets into a single one. However, when we do so, the column `my_rating` will be repeated for each contact, so we should change it accordingly. "
   ]
  },
  {
   "cell_type": "code",
   "execution_count": 12,
   "metadata": {},
   "outputs": [],
   "source": [
    "# Create lists of user's contacts, datasets and column names.\n",
    "contactos = ['francisco', 'nicolas', 'fernando', 'cova', 'mario', 'andrea', 'vanessa', 'maria', 'eduardo', 'stefan', 'bill']\n",
    "data_contactos = [data_francisco, data_nicolas, data_fernando, data_cova_sv, data_mario, data_andrea, data_vanessa, data_maria, data_eduardo, data_stefan ,data_bill]\n",
    "columnas_rating = [x + '_rating' for x in contactos]"
   ]
  },
  {
   "cell_type": "code",
   "execution_count": 13,
   "metadata": {},
   "outputs": [],
   "source": [
    "# Change name of 'my_rating' column in each of the contact's datasets.\n",
    "n = -1\n",
    "for contacto in data_contactos:\n",
    "    n += 1\n",
    "    new_name = columnas_rating[n]\n",
    "    contacto.rename(columns={'my_rating': new_name}, inplace=True)"
   ]
  },
  {
   "cell_type": "code",
   "execution_count": 14,
   "metadata": {},
   "outputs": [
    {
     "name": "stdout",
     "output_type": "stream",
     "text": [
      "Index(['user_id', 'shelf', 'isbn', 'title', 'author', 'num_pages',\n",
      "       'publication_year', 'publisher', 'vanessa_rating', 'average_rating',\n",
      "       'ratings_count', 'links'],\n",
      "      dtype='object')\n"
     ]
    }
   ],
   "source": [
    "# Check that it worked\n",
    "print(data_vanessa.columns)"
   ]
  },
  {
   "cell_type": "markdown",
   "metadata": {},
   "source": [
    "The new `my_rating` column for the contact 'Vanessa' is now `vanessa_rating`, so the change was successful."
   ]
  },
  {
   "cell_type": "markdown",
   "metadata": {},
   "source": [
    "### 2.2 Remove irrelevant columns"
   ]
  },
  {
   "cell_type": "markdown",
   "metadata": {},
   "source": [
    "To recommend books, not all columns in the datasets interest us, so let's remove them. "
   ]
  },
  {
   "cell_type": "code",
   "execution_count": 15,
   "metadata": {},
   "outputs": [],
   "source": [
    "# List of columns that do not interest me. \n",
    "columnas_irrelevantes = ['isbn', 'user_id', 'shelf', 'publisher', 'links', 'num_pages', 'publication_year', 'ratings_count']"
   ]
  },
  {
   "cell_type": "code",
   "execution_count": 16,
   "metadata": {},
   "outputs": [],
   "source": [
    "# Remove irrelevant columns in each dataset.\n",
    "for contacto in data_contactos:\n",
    "    for columna in columnas_irrelevantes:\n",
    "        del contacto[columna]"
   ]
  },
  {
   "cell_type": "markdown",
   "metadata": {},
   "source": [
    "Ejemplo: "
   ]
  },
  {
   "cell_type": "code",
   "execution_count": 17,
   "metadata": {},
   "outputs": [
    {
     "data": {
      "text/html": [
       "<div>\n",
       "<style scoped>\n",
       "    .dataframe tbody tr th:only-of-type {\n",
       "        vertical-align: middle;\n",
       "    }\n",
       "\n",
       "    .dataframe tbody tr th {\n",
       "        vertical-align: top;\n",
       "    }\n",
       "\n",
       "    .dataframe thead th {\n",
       "        text-align: right;\n",
       "    }\n",
       "</style>\n",
       "<table border=\"1\" class=\"dataframe\">\n",
       "  <thead>\n",
       "    <tr style=\"text-align: right;\">\n",
       "      <th></th>\n",
       "      <th>title</th>\n",
       "      <th>author</th>\n",
       "      <th>vanessa_rating</th>\n",
       "      <th>average_rating</th>\n",
       "    </tr>\n",
       "  </thead>\n",
       "  <tbody>\n",
       "    <tr>\n",
       "      <th>0</th>\n",
       "      <td>La hija única</td>\n",
       "      <td>Guadalupe Nettel</td>\n",
       "      <td>2</td>\n",
       "      <td>4.17</td>\n",
       "    </tr>\n",
       "    <tr>\n",
       "      <th>1</th>\n",
       "      <td>1984</td>\n",
       "      <td>George Orwell</td>\n",
       "      <td>5</td>\n",
       "      <td>4.19</td>\n",
       "    </tr>\n",
       "    <tr>\n",
       "      <th>2</th>\n",
       "      <td>21 Lessons for the 21st Century</td>\n",
       "      <td>Yuval Noah Harari</td>\n",
       "      <td>5</td>\n",
       "      <td>4.16</td>\n",
       "    </tr>\n",
       "  </tbody>\n",
       "</table>\n",
       "</div>"
      ],
      "text/plain": [
       "                             title             author vanessa_rating  \\\n",
       "0                    La hija única   Guadalupe Nettel              2   \n",
       "1                             1984      George Orwell              5   \n",
       "2  21 Lessons for the 21st Century  Yuval Noah Harari              5   \n",
       "\n",
       "  average_rating  \n",
       "0           4.17  \n",
       "1           4.19  \n",
       "2           4.16  "
      ]
     },
     "execution_count": 17,
     "metadata": {},
     "output_type": "execute_result"
    }
   ],
   "source": [
    "data_vanessa.head(3)"
   ]
  },
  {
   "cell_type": "markdown",
   "metadata": {},
   "source": [
    "### 2.3 Merge datasets"
   ]
  },
  {
   "cell_type": "markdown",
   "metadata": {},
   "source": [
    "Finally, let's merge all the datasets into a single one. "
   ]
  },
  {
   "cell_type": "code",
   "execution_count": 18,
   "metadata": {
    "scrolled": true
   },
   "outputs": [],
   "source": [
    "data_total = data_francisco.copy()\n",
    "\n",
    "for dataset in data_contactos[1:]:\n",
    "    data_total = data_total.merge(dataset, how=\"outer\", on=['title', 'author', 'average_rating'])"
   ]
  },
  {
   "cell_type": "code",
   "execution_count": 19,
   "metadata": {},
   "outputs": [
    {
     "data": {
      "text/html": [
       "<div>\n",
       "<style scoped>\n",
       "    .dataframe tbody tr th:only-of-type {\n",
       "        vertical-align: middle;\n",
       "    }\n",
       "\n",
       "    .dataframe tbody tr th {\n",
       "        vertical-align: top;\n",
       "    }\n",
       "\n",
       "    .dataframe thead th {\n",
       "        text-align: right;\n",
       "    }\n",
       "</style>\n",
       "<table border=\"1\" class=\"dataframe\">\n",
       "  <thead>\n",
       "    <tr style=\"text-align: right;\">\n",
       "      <th></th>\n",
       "      <th>title</th>\n",
       "      <th>author</th>\n",
       "      <th>francisco_rating</th>\n",
       "      <th>average_rating</th>\n",
       "      <th>nicolas_rating</th>\n",
       "      <th>fernando_rating</th>\n",
       "      <th>cova_rating</th>\n",
       "      <th>mario_rating</th>\n",
       "      <th>andrea_rating</th>\n",
       "      <th>vanessa_rating</th>\n",
       "      <th>maria_rating</th>\n",
       "      <th>eduardo_rating</th>\n",
       "      <th>stefan_rating</th>\n",
       "      <th>bill_rating</th>\n",
       "    </tr>\n",
       "  </thead>\n",
       "  <tbody>\n",
       "    <tr>\n",
       "      <th>0</th>\n",
       "      <td>1984</td>\n",
       "      <td>George Orwell</td>\n",
       "      <td>4</td>\n",
       "      <td>4.19</td>\n",
       "      <td>4</td>\n",
       "      <td>4</td>\n",
       "      <td>NaN</td>\n",
       "      <td>4</td>\n",
       "      <td>4</td>\n",
       "      <td>5</td>\n",
       "      <td>4</td>\n",
       "      <td>NaN</td>\n",
       "      <td>NaN</td>\n",
       "      <td>2</td>\n",
       "    </tr>\n",
       "    <tr>\n",
       "      <th>1</th>\n",
       "      <td>2001: A Space Odyssey (Space Odyssey, #1)</td>\n",
       "      <td>Arthur C. Clarke</td>\n",
       "      <td>3</td>\n",
       "      <td>4.15</td>\n",
       "      <td>NaN</td>\n",
       "      <td>NaN</td>\n",
       "      <td>NaN</td>\n",
       "      <td>NaN</td>\n",
       "      <td>NaN</td>\n",
       "      <td>NaN</td>\n",
       "      <td>NaN</td>\n",
       "      <td>NaN</td>\n",
       "      <td>NaN</td>\n",
       "      <td>NaN</td>\n",
       "    </tr>\n",
       "    <tr>\n",
       "      <th>2</th>\n",
       "      <td>The 4-Hour Workweek: Escape 9-5, Live Anywhere...</td>\n",
       "      <td>Timothy Ferriss</td>\n",
       "      <td>3</td>\n",
       "      <td>3.90</td>\n",
       "      <td>NaN</td>\n",
       "      <td>NaN</td>\n",
       "      <td>NaN</td>\n",
       "      <td>NaN</td>\n",
       "      <td>NaN</td>\n",
       "      <td>NaN</td>\n",
       "      <td>NaN</td>\n",
       "      <td>NaN</td>\n",
       "      <td>NaN</td>\n",
       "      <td>NaN</td>\n",
       "    </tr>\n",
       "  </tbody>\n",
       "</table>\n",
       "</div>"
      ],
      "text/plain": [
       "                                               title            author  \\\n",
       "0                                               1984     George Orwell   \n",
       "1          2001: A Space Odyssey (Space Odyssey, #1)  Arthur C. Clarke   \n",
       "2  The 4-Hour Workweek: Escape 9-5, Live Anywhere...   Timothy Ferriss   \n",
       "\n",
       "  francisco_rating average_rating nicolas_rating fernando_rating cova_rating  \\\n",
       "0                4           4.19              4               4         NaN   \n",
       "1                3           4.15            NaN             NaN         NaN   \n",
       "2                3           3.90            NaN             NaN         NaN   \n",
       "\n",
       "  mario_rating andrea_rating vanessa_rating maria_rating eduardo_rating  \\\n",
       "0            4             4              5            4            NaN   \n",
       "1          NaN           NaN            NaN          NaN            NaN   \n",
       "2          NaN           NaN            NaN          NaN            NaN   \n",
       "\n",
       "  stefan_rating bill_rating  \n",
       "0           NaN           2  \n",
       "1           NaN         NaN  \n",
       "2           NaN         NaN  "
      ]
     },
     "execution_count": 19,
     "metadata": {},
     "output_type": "execute_result"
    }
   ],
   "source": [
    "# Check that it worked\n",
    "data_total.head(3)"
   ]
  },
  {
   "cell_type": "markdown",
   "metadata": {},
   "source": [
    "## 3. Cleaning and formating book data"
   ]
  },
  {
   "cell_type": "markdown",
   "metadata": {},
   "source": [
    "We now have a single dataset with all the information. However, we should clean it before proceeding. "
   ]
  },
  {
   "cell_type": "markdown",
   "metadata": {},
   "source": [
    "### 3.1 Remove duplicates"
   ]
  },
  {
   "cell_type": "markdown",
   "metadata": {},
   "source": [
    "Some books appear probably appear multiple times because they might vary slightly in their wording. For example: "
   ]
  },
  {
   "cell_type": "code",
   "execution_count": 20,
   "metadata": {
    "scrolled": true
   },
   "outputs": [
    {
     "data": {
      "text/html": [
       "<div>\n",
       "<style scoped>\n",
       "    .dataframe tbody tr th:only-of-type {\n",
       "        vertical-align: middle;\n",
       "    }\n",
       "\n",
       "    .dataframe tbody tr th {\n",
       "        vertical-align: top;\n",
       "    }\n",
       "\n",
       "    .dataframe thead th {\n",
       "        text-align: right;\n",
       "    }\n",
       "</style>\n",
       "<table border=\"1\" class=\"dataframe\">\n",
       "  <thead>\n",
       "    <tr style=\"text-align: right;\">\n",
       "      <th></th>\n",
       "      <th>title</th>\n",
       "      <th>author</th>\n",
       "      <th>francisco_rating</th>\n",
       "      <th>average_rating</th>\n",
       "      <th>nicolas_rating</th>\n",
       "      <th>fernando_rating</th>\n",
       "      <th>cova_rating</th>\n",
       "      <th>mario_rating</th>\n",
       "      <th>andrea_rating</th>\n",
       "      <th>vanessa_rating</th>\n",
       "      <th>maria_rating</th>\n",
       "      <th>eduardo_rating</th>\n",
       "      <th>stefan_rating</th>\n",
       "      <th>bill_rating</th>\n",
       "    </tr>\n",
       "  </thead>\n",
       "  <tbody>\n",
       "    <tr>\n",
       "      <th>122</th>\n",
       "      <td>How to Win Friends &amp; Influence People</td>\n",
       "      <td>Dale Carnegie</td>\n",
       "      <td>3</td>\n",
       "      <td>4.21</td>\n",
       "      <td>NaN</td>\n",
       "      <td>NaN</td>\n",
       "      <td>NaN</td>\n",
       "      <td>NaN</td>\n",
       "      <td>NaN</td>\n",
       "      <td>NaN</td>\n",
       "      <td>NaN</td>\n",
       "      <td>NaN</td>\n",
       "      <td>NaN</td>\n",
       "      <td>NaN</td>\n",
       "    </tr>\n",
       "    <tr>\n",
       "      <th>330</th>\n",
       "      <td>How to Win Friends and Influence People</td>\n",
       "      <td>Dale Carnegie</td>\n",
       "      <td>NaN</td>\n",
       "      <td>4.21</td>\n",
       "      <td>4</td>\n",
       "      <td>NaN</td>\n",
       "      <td>NaN</td>\n",
       "      <td>NaN</td>\n",
       "      <td>NaN</td>\n",
       "      <td>NaN</td>\n",
       "      <td>NaN</td>\n",
       "      <td>NaN</td>\n",
       "      <td>3</td>\n",
       "      <td>NaN</td>\n",
       "    </tr>\n",
       "  </tbody>\n",
       "</table>\n",
       "</div>"
      ],
      "text/plain": [
       "                                       title         author francisco_rating  \\\n",
       "122    How to Win Friends & Influence People  Dale Carnegie                3   \n",
       "330  How to Win Friends and Influence People  Dale Carnegie              NaN   \n",
       "\n",
       "    average_rating nicolas_rating fernando_rating cova_rating mario_rating  \\\n",
       "122           4.21            NaN             NaN         NaN          NaN   \n",
       "330           4.21              4             NaN         NaN          NaN   \n",
       "\n",
       "    andrea_rating vanessa_rating maria_rating eduardo_rating stefan_rating  \\\n",
       "122           NaN            NaN          NaN            NaN           NaN   \n",
       "330           NaN            NaN          NaN            NaN             3   \n",
       "\n",
       "    bill_rating  \n",
       "122         NaN  \n",
       "330         NaN  "
      ]
     },
     "execution_count": 20,
     "metadata": {},
     "output_type": "execute_result"
    }
   ],
   "source": [
    "match = \"How to Win\"\n",
    "data_total.loc[data_total['title'].str.match(match), :]"
   ]
  },
  {
   "cell_type": "markdown",
   "metadata": {},
   "source": [
    "The book _How to Win Friends_... appears twice, but only because one version uses \"&\" instead of \"and\". "
   ]
  },
  {
   "cell_type": "markdown",
   "metadata": {},
   "source": [
    "We should try to find as many duplicate books as we can. Then, we could combine their ratings into a single cell and remove the duplicates. "
   ]
  },
  {
   "cell_type": "code",
   "execution_count": 23,
   "metadata": {
    "scrolled": true
   },
   "outputs": [
    {
     "data": {
      "text/plain": [
       "(1626, 14)"
      ]
     },
     "execution_count": 23,
     "metadata": {},
     "output_type": "execute_result"
    }
   ],
   "source": [
    "# Creating a backup dataset to test our cleaning function.\n",
    "data_test = data_total.copy()\n",
    "data_test.shape"
   ]
  },
  {
   "cell_type": "code",
   "execution_count": 25,
   "metadata": {},
   "outputs": [],
   "source": [
    "def clean_title(title):  \n",
    "\n",
    "    \"\"\"Returns a title without special characters to make book comparisons easier\"\"\"\n",
    "    \n",
    "    # In a book title, I saw that everything aftar a colon might change, even if\n",
    "    # it is the same book. Therefore, we will only select the text before a colon. \n",
    "    clean = re.split(r':', title)[0]\n",
    "    \n",
    "    # Clean the remaining string\n",
    "    clean = title.strip().lower()\n",
    "    clean = clean.replace('&', 'and')\n",
    "    caracteres_especiales = [',', '#', '(', ')']\n",
    "    for caracter in caracteres_especiales:\n",
    "        clean = clean.replace(f'{caracter}', '')\n",
    "    \n",
    "    return clean\n"
   ]
  },
  {
   "cell_type": "code",
   "execution_count": 26,
   "metadata": {
    "scrolled": true
   },
   "outputs": [
    {
     "name": "stdout",
     "output_type": "stream",
     "text": [
      "\n",
      "Book: El Alquimista\n",
      "Match | Row: 8 , Row: 470\n",
      "Usuario: cova_rating | Score: 0\n",
      "\n",
      "Book: Cuentos\n",
      "Match | Row: 46 , Row: 690\n",
      "Usuario: andrea_rating | Score: 3\n",
      "\n",
      "Book: How to Win Friends & Influence People\n",
      "Match | Row: 122 , Row: 330\n",
      "Usuario: nicolas_rating | Score: 4\n",
      "Usuario: stefan_rating | Score: 3\n",
      "\n",
      "Book: Nudge: Improving Decisions About Health, Wealth, and Happiness\n",
      "Match | Row: 175 , Row: 176\n",
      "Usuario: fernando_rating | Score: 3\n",
      "Usuario: stefan_rating | Score: 4\n",
      "\n",
      "Book: Viaje Al Centro de La Tierra\n",
      "Match | Row: 266 , Row: 957\n",
      "Usuario: andrea_rating | Score: 4\n",
      "\n",
      "Book: Born a Crime: Stories from a South African Childhood\n",
      "Match | Row: 300 , Row: 390\n",
      "Usuario: fernando_rating | Score: 5\n",
      "\n",
      "Book: The Gene: An Intimate History\n",
      "Match | Row: 410 , Row: 411\n",
      "Usuario: fernando_rating | Score: 5\n",
      "\n",
      "Book: Ready Player One (Ready Player One, #1)\n",
      "Match | Row: 445 , Row: 446\n",
      "Usuario: fernando_rating | Score: 0\n",
      "Usuario: mario_rating | Score: 4\n",
      "\n",
      "Book: Sapiens: A Brief History of Humankind\n",
      "Match | Row: 451 , Row: 452\n",
      "Usuario: fernando_rating | Score: 5\n",
      "Usuario: cova_rating | Score: 5\n",
      "Usuario: mario_rating | Score: 4\n",
      "Usuario: maria_rating | Score: 4\n",
      "Usuario: eduardo_rating | Score: 5\n",
      "Usuario: stefan_rating | Score: 2\n",
      "\n",
      "Book: The Great Gatsby\n",
      "Match | Row: 554 , Row: 555\n",
      "Usuario: mario_rating | Score: 3\n",
      "Usuario: andrea_rating | Score: 4\n",
      "\n",
      "Book: The Hobbit, or There and Back Again\n",
      "Match | Row: 558 , Row: 1323\n",
      "Usuario: stefan_rating | Score: 5\n",
      "\n",
      "Book: My Year of Rest and Relaxation\n",
      "Match | Row: 835 , Row: 836\n",
      "Usuario: andrea_rating | Score: 4\n",
      "\n",
      "Book: The Bourgeois Virtues: Ethics for an Age of Commerce\n",
      "Match | Row: 1058 , Row: 1059\n",
      "Usuario: maria_rating | Score: 4\n",
      "Usuario: stefan_rating | Score: 2\n",
      "\n",
      "Book: The Alchemist\n",
      "Match | Row: 1155 , Row: 1403\n",
      "Usuario: bill_rating | Score: 1\n",
      "\n",
      "Book: انجمن شاعران مرده\n",
      "Match | Row: 1398 , Row: 1399\n",
      "Usuario: bill_rating | Score: 4\n"
     ]
    }
   ],
   "source": [
    "# Select a row\n",
    "row_num = 0\n",
    "for i in range(len(data_test)):\n",
    "    row_num += 1 \n",
    "        \n",
    "    # Select another row for comparison.  \n",
    "    for x in range(row_num, len(data_test)):\n",
    "            \n",
    "        # Check that both rows exist, since they could have been deleted.\n",
    "        if (i in data_test.index) & (x in data_test.index):\n",
    "                \n",
    "            # Check if there is a match between the boock titles\n",
    "            original = data_test.loc[i, 'title']\n",
    "            otro_libro = data_test.loc[x, 'title']\n",
    "                 \n",
    "            original_clean = clean_title(original)\n",
    "            otro_libro_clean = clean_title(otro_libro)\n",
    "                \n",
    "            if original_clean == otro_libro_clean:\n",
    "                print(f'\\nBook: {original}')\n",
    "                print(f'Match | Row: {i} , Row: {x}')\n",
    "                \n",
    "                # Merge all ratings of other users in the duplicate row with the original row.\n",
    "                for usuario in columnas_rating[1:]:\n",
    "                    if pd.notnull(data_test.loc[x, usuario]):\n",
    "                        data_test.loc[i, usuario] = data_test.loc[x, usuario]\n",
    "                        print(f'Usuario: {usuario} | Score: {data_test.loc[x, usuario]}')\n",
    "                        \n",
    "                # Delete duplicate row\n",
    "                data_test.drop(x, axis=0, inplace=True)"
   ]
  },
  {
   "cell_type": "code",
   "execution_count": 30,
   "metadata": {},
   "outputs": [
    {
     "data": {
      "text/html": [
       "<div>\n",
       "<style scoped>\n",
       "    .dataframe tbody tr th:only-of-type {\n",
       "        vertical-align: middle;\n",
       "    }\n",
       "\n",
       "    .dataframe tbody tr th {\n",
       "        vertical-align: top;\n",
       "    }\n",
       "\n",
       "    .dataframe thead th {\n",
       "        text-align: right;\n",
       "    }\n",
       "</style>\n",
       "<table border=\"1\" class=\"dataframe\">\n",
       "  <thead>\n",
       "    <tr style=\"text-align: right;\">\n",
       "      <th></th>\n",
       "      <th>title</th>\n",
       "      <th>author</th>\n",
       "      <th>francisco_rating</th>\n",
       "      <th>average_rating</th>\n",
       "      <th>nicolas_rating</th>\n",
       "      <th>fernando_rating</th>\n",
       "      <th>cova_rating</th>\n",
       "      <th>mario_rating</th>\n",
       "      <th>andrea_rating</th>\n",
       "      <th>vanessa_rating</th>\n",
       "      <th>maria_rating</th>\n",
       "      <th>eduardo_rating</th>\n",
       "      <th>stefan_rating</th>\n",
       "      <th>bill_rating</th>\n",
       "    </tr>\n",
       "  </thead>\n",
       "  <tbody>\n",
       "    <tr>\n",
       "      <th>122</th>\n",
       "      <td>How to Win Friends &amp; Influence People</td>\n",
       "      <td>Dale Carnegie</td>\n",
       "      <td>3</td>\n",
       "      <td>4.21</td>\n",
       "      <td>4</td>\n",
       "      <td>NaN</td>\n",
       "      <td>NaN</td>\n",
       "      <td>NaN</td>\n",
       "      <td>NaN</td>\n",
       "      <td>NaN</td>\n",
       "      <td>NaN</td>\n",
       "      <td>NaN</td>\n",
       "      <td>3</td>\n",
       "      <td>NaN</td>\n",
       "    </tr>\n",
       "  </tbody>\n",
       "</table>\n",
       "</div>"
      ],
      "text/plain": [
       "                                     title         author francisco_rating  \\\n",
       "122  How to Win Friends & Influence People  Dale Carnegie                3   \n",
       "\n",
       "    average_rating nicolas_rating fernando_rating cova_rating mario_rating  \\\n",
       "122           4.21              4             NaN         NaN          NaN   \n",
       "\n",
       "    andrea_rating vanessa_rating maria_rating eduardo_rating stefan_rating  \\\n",
       "122           NaN            NaN          NaN            NaN             3   \n",
       "\n",
       "    bill_rating  \n",
       "122         NaN  "
      ]
     },
     "execution_count": 30,
     "metadata": {},
     "output_type": "execute_result"
    }
   ],
   "source": [
    "# Check that it worked\n",
    "data_test.loc[data_test.title.str.contains('How to Win'), :]"
   ]
  },
  {
   "cell_type": "code",
   "execution_count": 31,
   "metadata": {},
   "outputs": [
    {
     "data": {
      "text/plain": [
       "(1611, 14)"
      ]
     },
     "execution_count": 31,
     "metadata": {},
     "output_type": "execute_result"
    }
   ],
   "source": [
    "data_test.shape"
   ]
  },
  {
   "cell_type": "markdown",
   "metadata": {},
   "source": [
    "The function worked well, since there is no duplicate of _How to Win Friends_... anymore. Also, we now have 1611 rows, instead of 1626."
   ]
  },
  {
   "cell_type": "markdown",
   "metadata": {},
   "source": [
    "### 3.2 Reset indexes"
   ]
  },
  {
   "cell_type": "code",
   "execution_count": 32,
   "metadata": {},
   "outputs": [],
   "source": [
    "data_test = data_test.reset_index(drop=True)"
   ]
  },
  {
   "cell_type": "markdown",
   "metadata": {},
   "source": [
    "### 3.3 Change data type"
   ]
  },
  {
   "cell_type": "markdown",
   "metadata": {},
   "source": [
    "Some columns are saved as `object`,so let's transform them to an adequate format."
   ]
  },
  {
   "cell_type": "code",
   "execution_count": 33,
   "metadata": {},
   "outputs": [
    {
     "name": "stdout",
     "output_type": "stream",
     "text": [
      "<class 'pandas.core.frame.DataFrame'>\n",
      "RangeIndex: 1611 entries, 0 to 1610\n",
      "Data columns (total 14 columns):\n",
      " #   Column            Non-Null Count  Dtype \n",
      "---  ------            --------------  ----- \n",
      " 0   title             1611 non-null   object\n",
      " 1   author            1611 non-null   object\n",
      " 2   francisco_rating  290 non-null    object\n",
      " 3   average_rating    1611 non-null   object\n",
      " 4   nicolas_rating    95 non-null     object\n",
      " 5   fernando_rating   100 non-null    object\n",
      " 6   cova_rating       55 non-null     object\n",
      " 7   mario_rating      142 non-null    object\n",
      " 8   andrea_rating     415 non-null    object\n",
      " 9   vanessa_rating    96 non-null     object\n",
      " 10  maria_rating      137 non-null    object\n",
      " 11  eduardo_rating    168 non-null    object\n",
      " 12  stefan_rating     144 non-null    object\n",
      " 13  bill_rating       249 non-null    object\n",
      "dtypes: object(14)\n",
      "memory usage: 176.3+ KB\n"
     ]
    }
   ],
   "source": [
    "data_test.info()"
   ]
  },
  {
   "cell_type": "code",
   "execution_count": 34,
   "metadata": {},
   "outputs": [],
   "source": [
    "columnas = list(data_test.columns)\n",
    "for columna in columnas[2:]:\n",
    "    data_test[columna] = data_test[columna].astype('float')"
   ]
  },
  {
   "cell_type": "code",
   "execution_count": 35,
   "metadata": {},
   "outputs": [
    {
     "name": "stdout",
     "output_type": "stream",
     "text": [
      "<class 'pandas.core.frame.DataFrame'>\n",
      "RangeIndex: 1611 entries, 0 to 1610\n",
      "Data columns (total 14 columns):\n",
      " #   Column            Non-Null Count  Dtype  \n",
      "---  ------            --------------  -----  \n",
      " 0   title             1611 non-null   object \n",
      " 1   author            1611 non-null   object \n",
      " 2   francisco_rating  290 non-null    float64\n",
      " 3   average_rating    1611 non-null   float64\n",
      " 4   nicolas_rating    95 non-null     float64\n",
      " 5   fernando_rating   100 non-null    float64\n",
      " 6   cova_rating       55 non-null     float64\n",
      " 7   mario_rating      142 non-null    float64\n",
      " 8   andrea_rating     415 non-null    float64\n",
      " 9   vanessa_rating    96 non-null     float64\n",
      " 10  maria_rating      137 non-null    float64\n",
      " 11  eduardo_rating    168 non-null    float64\n",
      " 12  stefan_rating     144 non-null    float64\n",
      " 13  bill_rating       249 non-null    float64\n",
      "dtypes: float64(12), object(2)\n",
      "memory usage: 176.3+ KB\n"
     ]
    }
   ],
   "source": [
    "data_test.info()"
   ]
  },
  {
   "cell_type": "markdown",
   "metadata": {},
   "source": [
    "### 3.4 Get additional dataset with the user's unread books."
   ]
  },
  {
   "cell_type": "markdown",
   "metadata": {},
   "source": [
    "We need an additional dataset with books that the contacts have read but the user hasn't. We we will use it later as a basis for the recommendations."
   ]
  },
  {
   "cell_type": "code",
   "execution_count": 36,
   "metadata": {},
   "outputs": [
    {
     "data": {
      "text/plain": [
       "(1611, 14)"
      ]
     },
     "execution_count": 36,
     "metadata": {},
     "output_type": "execute_result"
    }
   ],
   "source": [
    "data_por_leer = data_test.copy()\n",
    "data_por_leer.shape"
   ]
  },
  {
   "cell_type": "code",
   "execution_count": 37,
   "metadata": {},
   "outputs": [],
   "source": [
    "for i in range(len(data_por_leer)):\n",
    "        \n",
    "    #Check if the row still exists\n",
    "    if i in data_test.index:\n",
    "    \n",
    "        # Check if the user has read the book\n",
    "        if pd.notnull(data_por_leer.loc[i, 'francisco_rating']):\n",
    "            data_por_leer.drop(i, axis=0, inplace=True)"
   ]
  },
  {
   "cell_type": "code",
   "execution_count": 38,
   "metadata": {},
   "outputs": [],
   "source": [
    "data_por_leer = data_por_leer.reset_index(drop=True)"
   ]
  },
  {
   "cell_type": "code",
   "execution_count": 39,
   "metadata": {},
   "outputs": [
    {
     "data": {
      "text/plain": [
       "(1321, 14)"
      ]
     },
     "execution_count": 39,
     "metadata": {},
     "output_type": "execute_result"
    }
   ],
   "source": [
    "data_por_leer.shape"
   ]
  },
  {
   "cell_type": "code",
   "execution_count": 40,
   "metadata": {},
   "outputs": [
    {
     "data": {
      "text/html": [
       "<div>\n",
       "<style scoped>\n",
       "    .dataframe tbody tr th:only-of-type {\n",
       "        vertical-align: middle;\n",
       "    }\n",
       "\n",
       "    .dataframe tbody tr th {\n",
       "        vertical-align: top;\n",
       "    }\n",
       "\n",
       "    .dataframe thead th {\n",
       "        text-align: right;\n",
       "    }\n",
       "</style>\n",
       "<table border=\"1\" class=\"dataframe\">\n",
       "  <thead>\n",
       "    <tr style=\"text-align: right;\">\n",
       "      <th></th>\n",
       "      <th>title</th>\n",
       "      <th>author</th>\n",
       "      <th>francisco_rating</th>\n",
       "      <th>average_rating</th>\n",
       "      <th>nicolas_rating</th>\n",
       "      <th>fernando_rating</th>\n",
       "      <th>cova_rating</th>\n",
       "      <th>mario_rating</th>\n",
       "      <th>andrea_rating</th>\n",
       "      <th>vanessa_rating</th>\n",
       "      <th>maria_rating</th>\n",
       "      <th>eduardo_rating</th>\n",
       "      <th>stefan_rating</th>\n",
       "      <th>bill_rating</th>\n",
       "    </tr>\n",
       "  </thead>\n",
       "  <tbody>\n",
       "    <tr>\n",
       "      <th>0</th>\n",
       "      <td>12 Rules for Life: An Antidote to Chaos</td>\n",
       "      <td>Jordan B. Peterson</td>\n",
       "      <td>NaN</td>\n",
       "      <td>3.93</td>\n",
       "      <td>5.0</td>\n",
       "      <td>NaN</td>\n",
       "      <td>NaN</td>\n",
       "      <td>NaN</td>\n",
       "      <td>NaN</td>\n",
       "      <td>NaN</td>\n",
       "      <td>NaN</td>\n",
       "      <td>NaN</td>\n",
       "      <td>NaN</td>\n",
       "      <td>NaN</td>\n",
       "    </tr>\n",
       "    <tr>\n",
       "      <th>1</th>\n",
       "      <td>21 Lessons for the 21st Century</td>\n",
       "      <td>Yuval Noah Harari</td>\n",
       "      <td>NaN</td>\n",
       "      <td>4.16</td>\n",
       "      <td>3.0</td>\n",
       "      <td>NaN</td>\n",
       "      <td>NaN</td>\n",
       "      <td>NaN</td>\n",
       "      <td>NaN</td>\n",
       "      <td>5.0</td>\n",
       "      <td>2.0</td>\n",
       "      <td>NaN</td>\n",
       "      <td>NaN</td>\n",
       "      <td>NaN</td>\n",
       "    </tr>\n",
       "    <tr>\n",
       "      <th>2</th>\n",
       "      <td>After Europe</td>\n",
       "      <td>Ivan Krastev</td>\n",
       "      <td>NaN</td>\n",
       "      <td>4.11</td>\n",
       "      <td>4.0</td>\n",
       "      <td>NaN</td>\n",
       "      <td>NaN</td>\n",
       "      <td>NaN</td>\n",
       "      <td>NaN</td>\n",
       "      <td>NaN</td>\n",
       "      <td>NaN</td>\n",
       "      <td>NaN</td>\n",
       "      <td>NaN</td>\n",
       "      <td>NaN</td>\n",
       "    </tr>\n",
       "  </tbody>\n",
       "</table>\n",
       "</div>"
      ],
      "text/plain": [
       "                                     title              author  \\\n",
       "0  12 Rules for Life: An Antidote to Chaos  Jordan B. Peterson   \n",
       "1          21 Lessons for the 21st Century   Yuval Noah Harari   \n",
       "2                             After Europe        Ivan Krastev   \n",
       "\n",
       "   francisco_rating  average_rating  nicolas_rating  fernando_rating  \\\n",
       "0               NaN            3.93             5.0              NaN   \n",
       "1               NaN            4.16             3.0              NaN   \n",
       "2               NaN            4.11             4.0              NaN   \n",
       "\n",
       "   cova_rating  mario_rating  andrea_rating  vanessa_rating  maria_rating  \\\n",
       "0          NaN           NaN            NaN             NaN           NaN   \n",
       "1          NaN           NaN            NaN             5.0           2.0   \n",
       "2          NaN           NaN            NaN             NaN           NaN   \n",
       "\n",
       "   eduardo_rating  stefan_rating  bill_rating  \n",
       "0             NaN            NaN          NaN  \n",
       "1             NaN            NaN          NaN  \n",
       "2             NaN            NaN          NaN  "
      ]
     },
     "execution_count": 40,
     "metadata": {},
     "output_type": "execute_result"
    }
   ],
   "source": [
    "data_por_leer.head(3)"
   ]
  },
  {
   "cell_type": "markdown",
   "metadata": {},
   "source": [
    "### 3.5 Clean ratings of score 0"
   ]
  },
  {
   "cell_type": "markdown",
   "metadata": {},
   "source": [
    "Sometimes, a Goodreads user can read a but not score it. In those cases, Goodreads assigns it a value of cero, which will be misleading for our analysis. Example: "
   ]
  },
  {
   "cell_type": "code",
   "execution_count": 33,
   "metadata": {
    "scrolled": true
   },
   "outputs": [
    {
     "data": {
      "text/plain": [
       "3.0    101\n",
       "2.0     67\n",
       "4.0     57\n",
       "5.0     24\n",
       "1.0     20\n",
       "0.0      8\n",
       "Name: francisco_rating, dtype: int64"
      ]
     },
     "execution_count": 33,
     "metadata": {},
     "output_type": "execute_result"
    }
   ],
   "source": [
    "data_test['francisco_rating'].value_counts()"
   ]
  },
  {
   "cell_type": "markdown",
   "metadata": {},
   "source": [
    "Instead, let's change these values to a NaN so that they don't bias our analysis."
   ]
  },
  {
   "cell_type": "code",
   "execution_count": 41,
   "metadata": {},
   "outputs": [],
   "source": [
    "data = data_test.copy()"
   ]
  },
  {
   "cell_type": "code",
   "execution_count": 42,
   "metadata": {},
   "outputs": [],
   "source": [
    "for columna in columnas[2:]:\n",
    "    data[columna] = data[columna].replace(0, np.NaN)\n",
    "    \n",
    "for columna in columnas[2:]:\n",
    "    data_por_leer[columna] = data_por_leer[columna].replace(0, np.NaN)"
   ]
  },
  {
   "cell_type": "code",
   "execution_count": 43,
   "metadata": {},
   "outputs": [
    {
     "data": {
      "text/plain": [
       "3.0    104\n",
       "2.0     71\n",
       "4.0     58\n",
       "5.0     24\n",
       "1.0     24\n",
       "Name: francisco_rating, dtype: int64"
      ]
     },
     "execution_count": 43,
     "metadata": {},
     "output_type": "execute_result"
    }
   ],
   "source": [
    "data['francisco_rating'].value_counts()"
   ]
  },
  {
   "cell_type": "code",
   "execution_count": 44,
   "metadata": {},
   "outputs": [
    {
     "data": {
      "text/plain": [
       "4.0    33\n",
       "3.0    21\n",
       "5.0    21\n",
       "2.0     3\n",
       "Name: fernando_rating, dtype: int64"
      ]
     },
     "execution_count": 44,
     "metadata": {},
     "output_type": "execute_result"
    }
   ],
   "source": [
    "data_por_leer['fernando_rating'].value_counts()"
   ]
  },
  {
   "cell_type": "markdown",
   "metadata": {},
   "source": [
    "### 3.6 Save datasets with user info"
   ]
  },
  {
   "cell_type": "code",
   "execution_count": 47,
   "metadata": {},
   "outputs": [],
   "source": [
    "data.to_csv(f'User data/data_francisco_galan_{time}.csv', index=False)\n",
    "data_por_leer.to_csv(f'User data/unread_francisco_galan_{time}.csv', index=False)"
   ]
  },
  {
   "cell_type": "markdown",
   "metadata": {},
   "source": [
    "## 4. Recommend books"
   ]
  },
  {
   "cell_type": "markdown",
   "metadata": {},
   "source": [
    "For our recommendations, we will consider three factors:\n",
    "- The correlation between the user's rating and his contact's.\n",
    "- A contact's standardized rating. \n",
    "- A book's average rating. \n",
    "\n",
    "Why these three? The idea is to find contacts with similar tastes to the user. Such contacts probably liked books that the user also will like. Conversely, contacts with a negative correlation probably liked books that the user didn't.\n",
    "\n",
    "In addition, we use a contact's standardized rating to give proper weight to her ratings. In other words, if a contact rates most books with two stars, her five-star ratings should count more than those of a contact that rates most books with five stars."
   ]
  },
  {
   "cell_type": "code",
   "execution_count": 5,
   "metadata": {},
   "outputs": [],
   "source": [
    "# Load user info\n",
    "data = pd.read_csv('User data/data_francisco_galan.csv')\n",
    "unread_data = pd.read_csv('User data/unread_francisco_galan.csv')"
   ]
  },
  {
   "cell_type": "markdown",
   "metadata": {},
   "source": [
    "### 4.1 Calculate correlation with each contact"
   ]
  },
  {
   "cell_type": "code",
   "execution_count": 6,
   "metadata": {
    "scrolled": true
   },
   "outputs": [],
   "source": [
    "data_corr = data.copy()\n",
    "data_corr = data_corr.drop(['author'], axis=1)"
   ]
  },
  {
   "cell_type": "code",
   "execution_count": 7,
   "metadata": {},
   "outputs": [
    {
     "data": {
      "text/html": [
       "<div>\n",
       "<style scoped>\n",
       "    .dataframe tbody tr th:only-of-type {\n",
       "        vertical-align: middle;\n",
       "    }\n",
       "\n",
       "    .dataframe tbody tr th {\n",
       "        vertical-align: top;\n",
       "    }\n",
       "\n",
       "    .dataframe thead th {\n",
       "        text-align: right;\n",
       "    }\n",
       "</style>\n",
       "<table border=\"1\" class=\"dataframe\">\n",
       "  <thead>\n",
       "    <tr style=\"text-align: right;\">\n",
       "      <th></th>\n",
       "      <th>francisco_rating</th>\n",
       "      <th>average_rating</th>\n",
       "      <th>nicolas_rating</th>\n",
       "      <th>fernando_rating</th>\n",
       "      <th>cova_rating</th>\n",
       "      <th>mario_rating</th>\n",
       "      <th>andrea_rating</th>\n",
       "      <th>vanessa_rating</th>\n",
       "      <th>maria_rating</th>\n",
       "      <th>eduardo_rating</th>\n",
       "      <th>stefan_rating</th>\n",
       "      <th>bill_rating</th>\n",
       "    </tr>\n",
       "  </thead>\n",
       "  <tbody>\n",
       "    <tr>\n",
       "      <th>francisco_rating</th>\n",
       "      <td>1.000000</td>\n",
       "      <td>0.236334</td>\n",
       "      <td>0.361499</td>\n",
       "      <td>-0.191663</td>\n",
       "      <td>NaN</td>\n",
       "      <td>NaN</td>\n",
       "      <td>0.316139</td>\n",
       "      <td>1.000000</td>\n",
       "      <td>-0.291748</td>\n",
       "      <td>-0.069824</td>\n",
       "      <td>-0.244444</td>\n",
       "      <td>-0.555556</td>\n",
       "    </tr>\n",
       "    <tr>\n",
       "      <th>average_rating</th>\n",
       "      <td>0.236334</td>\n",
       "      <td>1.000000</td>\n",
       "      <td>0.570055</td>\n",
       "      <td>0.277579</td>\n",
       "      <td>0.41328</td>\n",
       "      <td>0.451420</td>\n",
       "      <td>0.347652</td>\n",
       "      <td>0.070211</td>\n",
       "      <td>0.217826</td>\n",
       "      <td>0.301307</td>\n",
       "      <td>0.388125</td>\n",
       "      <td>0.458481</td>\n",
       "    </tr>\n",
       "    <tr>\n",
       "      <th>nicolas_rating</th>\n",
       "      <td>0.361499</td>\n",
       "      <td>0.570055</td>\n",
       "      <td>1.000000</td>\n",
       "      <td>0.333333</td>\n",
       "      <td>NaN</td>\n",
       "      <td>NaN</td>\n",
       "      <td>0.176777</td>\n",
       "      <td>NaN</td>\n",
       "      <td>0.158777</td>\n",
       "      <td>-0.277350</td>\n",
       "      <td>0.000000</td>\n",
       "      <td>NaN</td>\n",
       "    </tr>\n",
       "    <tr>\n",
       "      <th>fernando_rating</th>\n",
       "      <td>-0.191663</td>\n",
       "      <td>0.277579</td>\n",
       "      <td>0.333333</td>\n",
       "      <td>1.000000</td>\n",
       "      <td>NaN</td>\n",
       "      <td>0.166667</td>\n",
       "      <td>0.000000</td>\n",
       "      <td>0.327327</td>\n",
       "      <td>-0.707107</td>\n",
       "      <td>0.134568</td>\n",
       "      <td>-1.000000</td>\n",
       "      <td>-0.101015</td>\n",
       "    </tr>\n",
       "    <tr>\n",
       "      <th>cova_rating</th>\n",
       "      <td>NaN</td>\n",
       "      <td>0.413280</td>\n",
       "      <td>NaN</td>\n",
       "      <td>NaN</td>\n",
       "      <td>1.00000</td>\n",
       "      <td>NaN</td>\n",
       "      <td>NaN</td>\n",
       "      <td>NaN</td>\n",
       "      <td>NaN</td>\n",
       "      <td>NaN</td>\n",
       "      <td>NaN</td>\n",
       "      <td>NaN</td>\n",
       "    </tr>\n",
       "    <tr>\n",
       "      <th>mario_rating</th>\n",
       "      <td>NaN</td>\n",
       "      <td>0.451420</td>\n",
       "      <td>NaN</td>\n",
       "      <td>0.166667</td>\n",
       "      <td>NaN</td>\n",
       "      <td>1.000000</td>\n",
       "      <td>-0.183186</td>\n",
       "      <td>NaN</td>\n",
       "      <td>NaN</td>\n",
       "      <td>-0.405465</td>\n",
       "      <td>NaN</td>\n",
       "      <td>NaN</td>\n",
       "    </tr>\n",
       "    <tr>\n",
       "      <th>andrea_rating</th>\n",
       "      <td>0.316139</td>\n",
       "      <td>0.347652</td>\n",
       "      <td>0.176777</td>\n",
       "      <td>0.000000</td>\n",
       "      <td>NaN</td>\n",
       "      <td>-0.183186</td>\n",
       "      <td>1.000000</td>\n",
       "      <td>-0.456435</td>\n",
       "      <td>-0.106920</td>\n",
       "      <td>NaN</td>\n",
       "      <td>0.316228</td>\n",
       "      <td>0.428174</td>\n",
       "    </tr>\n",
       "    <tr>\n",
       "      <th>vanessa_rating</th>\n",
       "      <td>1.000000</td>\n",
       "      <td>0.070211</td>\n",
       "      <td>NaN</td>\n",
       "      <td>0.327327</td>\n",
       "      <td>NaN</td>\n",
       "      <td>NaN</td>\n",
       "      <td>-0.456435</td>\n",
       "      <td>1.000000</td>\n",
       "      <td>0.522233</td>\n",
       "      <td>NaN</td>\n",
       "      <td>NaN</td>\n",
       "      <td>-0.866025</td>\n",
       "    </tr>\n",
       "    <tr>\n",
       "      <th>maria_rating</th>\n",
       "      <td>-0.291748</td>\n",
       "      <td>0.217826</td>\n",
       "      <td>0.158777</td>\n",
       "      <td>-0.707107</td>\n",
       "      <td>NaN</td>\n",
       "      <td>NaN</td>\n",
       "      <td>-0.106920</td>\n",
       "      <td>0.522233</td>\n",
       "      <td>1.000000</td>\n",
       "      <td>-0.577350</td>\n",
       "      <td>-0.067926</td>\n",
       "      <td>NaN</td>\n",
       "    </tr>\n",
       "    <tr>\n",
       "      <th>eduardo_rating</th>\n",
       "      <td>-0.069824</td>\n",
       "      <td>0.301307</td>\n",
       "      <td>-0.277350</td>\n",
       "      <td>0.134568</td>\n",
       "      <td>NaN</td>\n",
       "      <td>-0.405465</td>\n",
       "      <td>NaN</td>\n",
       "      <td>NaN</td>\n",
       "      <td>-0.577350</td>\n",
       "      <td>1.000000</td>\n",
       "      <td>-0.223957</td>\n",
       "      <td>NaN</td>\n",
       "    </tr>\n",
       "    <tr>\n",
       "      <th>stefan_rating</th>\n",
       "      <td>-0.244444</td>\n",
       "      <td>0.388125</td>\n",
       "      <td>0.000000</td>\n",
       "      <td>-1.000000</td>\n",
       "      <td>NaN</td>\n",
       "      <td>NaN</td>\n",
       "      <td>0.316228</td>\n",
       "      <td>NaN</td>\n",
       "      <td>-0.067926</td>\n",
       "      <td>-0.223957</td>\n",
       "      <td>1.000000</td>\n",
       "      <td>NaN</td>\n",
       "    </tr>\n",
       "    <tr>\n",
       "      <th>bill_rating</th>\n",
       "      <td>-0.555556</td>\n",
       "      <td>0.458481</td>\n",
       "      <td>NaN</td>\n",
       "      <td>-0.101015</td>\n",
       "      <td>NaN</td>\n",
       "      <td>NaN</td>\n",
       "      <td>0.428174</td>\n",
       "      <td>-0.866025</td>\n",
       "      <td>NaN</td>\n",
       "      <td>NaN</td>\n",
       "      <td>NaN</td>\n",
       "      <td>1.000000</td>\n",
       "    </tr>\n",
       "  </tbody>\n",
       "</table>\n",
       "</div>"
      ],
      "text/plain": [
       "                  francisco_rating  average_rating  nicolas_rating  \\\n",
       "francisco_rating          1.000000        0.236334        0.361499   \n",
       "average_rating            0.236334        1.000000        0.570055   \n",
       "nicolas_rating            0.361499        0.570055        1.000000   \n",
       "fernando_rating          -0.191663        0.277579        0.333333   \n",
       "cova_rating                    NaN        0.413280             NaN   \n",
       "mario_rating                   NaN        0.451420             NaN   \n",
       "andrea_rating             0.316139        0.347652        0.176777   \n",
       "vanessa_rating            1.000000        0.070211             NaN   \n",
       "maria_rating             -0.291748        0.217826        0.158777   \n",
       "eduardo_rating           -0.069824        0.301307       -0.277350   \n",
       "stefan_rating            -0.244444        0.388125        0.000000   \n",
       "bill_rating              -0.555556        0.458481             NaN   \n",
       "\n",
       "                  fernando_rating  cova_rating  mario_rating  andrea_rating  \\\n",
       "francisco_rating        -0.191663          NaN           NaN       0.316139   \n",
       "average_rating           0.277579      0.41328      0.451420       0.347652   \n",
       "nicolas_rating           0.333333          NaN           NaN       0.176777   \n",
       "fernando_rating          1.000000          NaN      0.166667       0.000000   \n",
       "cova_rating                   NaN      1.00000           NaN            NaN   \n",
       "mario_rating             0.166667          NaN      1.000000      -0.183186   \n",
       "andrea_rating            0.000000          NaN     -0.183186       1.000000   \n",
       "vanessa_rating           0.327327          NaN           NaN      -0.456435   \n",
       "maria_rating            -0.707107          NaN           NaN      -0.106920   \n",
       "eduardo_rating           0.134568          NaN     -0.405465            NaN   \n",
       "stefan_rating           -1.000000          NaN           NaN       0.316228   \n",
       "bill_rating             -0.101015          NaN           NaN       0.428174   \n",
       "\n",
       "                  vanessa_rating  maria_rating  eduardo_rating  stefan_rating  \\\n",
       "francisco_rating        1.000000     -0.291748       -0.069824      -0.244444   \n",
       "average_rating          0.070211      0.217826        0.301307       0.388125   \n",
       "nicolas_rating               NaN      0.158777       -0.277350       0.000000   \n",
       "fernando_rating         0.327327     -0.707107        0.134568      -1.000000   \n",
       "cova_rating                  NaN           NaN             NaN            NaN   \n",
       "mario_rating                 NaN           NaN       -0.405465            NaN   \n",
       "andrea_rating          -0.456435     -0.106920             NaN       0.316228   \n",
       "vanessa_rating          1.000000      0.522233             NaN            NaN   \n",
       "maria_rating            0.522233      1.000000       -0.577350      -0.067926   \n",
       "eduardo_rating               NaN     -0.577350        1.000000      -0.223957   \n",
       "stefan_rating                NaN     -0.067926       -0.223957       1.000000   \n",
       "bill_rating            -0.866025           NaN             NaN            NaN   \n",
       "\n",
       "                  bill_rating  \n",
       "francisco_rating    -0.555556  \n",
       "average_rating       0.458481  \n",
       "nicolas_rating            NaN  \n",
       "fernando_rating     -0.101015  \n",
       "cova_rating               NaN  \n",
       "mario_rating              NaN  \n",
       "andrea_rating        0.428174  \n",
       "vanessa_rating      -0.866025  \n",
       "maria_rating              NaN  \n",
       "eduardo_rating            NaN  \n",
       "stefan_rating             NaN  \n",
       "bill_rating          1.000000  "
      ]
     },
     "execution_count": 7,
     "metadata": {},
     "output_type": "execute_result"
    }
   ],
   "source": [
    "corr_matrix = data_corr.corr()\n",
    "corr_matrix"
   ]
  },
  {
   "cell_type": "code",
   "execution_count": 8,
   "metadata": {},
   "outputs": [
    {
     "data": {
      "text/html": [
       "<div>\n",
       "<style scoped>\n",
       "    .dataframe tbody tr th:only-of-type {\n",
       "        vertical-align: middle;\n",
       "    }\n",
       "\n",
       "    .dataframe tbody tr th {\n",
       "        vertical-align: top;\n",
       "    }\n",
       "\n",
       "    .dataframe thead th {\n",
       "        text-align: right;\n",
       "    }\n",
       "</style>\n",
       "<table border=\"1\" class=\"dataframe\">\n",
       "  <thead>\n",
       "    <tr style=\"text-align: right;\">\n",
       "      <th></th>\n",
       "      <th>index</th>\n",
       "      <th>francisco_rating</th>\n",
       "    </tr>\n",
       "  </thead>\n",
       "  <tbody>\n",
       "    <tr>\n",
       "      <th>0</th>\n",
       "      <td>francisco_rating</td>\n",
       "      <td>1.000000</td>\n",
       "    </tr>\n",
       "    <tr>\n",
       "      <th>1</th>\n",
       "      <td>average_rating</td>\n",
       "      <td>0.236334</td>\n",
       "    </tr>\n",
       "    <tr>\n",
       "      <th>2</th>\n",
       "      <td>nicolas_rating</td>\n",
       "      <td>0.361499</td>\n",
       "    </tr>\n",
       "    <tr>\n",
       "      <th>3</th>\n",
       "      <td>fernando_rating</td>\n",
       "      <td>-0.191663</td>\n",
       "    </tr>\n",
       "    <tr>\n",
       "      <th>4</th>\n",
       "      <td>cova_rating</td>\n",
       "      <td>NaN</td>\n",
       "    </tr>\n",
       "    <tr>\n",
       "      <th>5</th>\n",
       "      <td>mario_rating</td>\n",
       "      <td>NaN</td>\n",
       "    </tr>\n",
       "    <tr>\n",
       "      <th>6</th>\n",
       "      <td>andrea_rating</td>\n",
       "      <td>0.316139</td>\n",
       "    </tr>\n",
       "    <tr>\n",
       "      <th>7</th>\n",
       "      <td>vanessa_rating</td>\n",
       "      <td>1.000000</td>\n",
       "    </tr>\n",
       "    <tr>\n",
       "      <th>8</th>\n",
       "      <td>maria_rating</td>\n",
       "      <td>-0.291748</td>\n",
       "    </tr>\n",
       "    <tr>\n",
       "      <th>9</th>\n",
       "      <td>eduardo_rating</td>\n",
       "      <td>-0.069824</td>\n",
       "    </tr>\n",
       "    <tr>\n",
       "      <th>10</th>\n",
       "      <td>stefan_rating</td>\n",
       "      <td>-0.244444</td>\n",
       "    </tr>\n",
       "    <tr>\n",
       "      <th>11</th>\n",
       "      <td>bill_rating</td>\n",
       "      <td>-0.555556</td>\n",
       "    </tr>\n",
       "  </tbody>\n",
       "</table>\n",
       "</div>"
      ],
      "text/plain": [
       "               index  francisco_rating\n",
       "0   francisco_rating          1.000000\n",
       "1     average_rating          0.236334\n",
       "2     nicolas_rating          0.361499\n",
       "3    fernando_rating         -0.191663\n",
       "4        cova_rating               NaN\n",
       "5       mario_rating               NaN\n",
       "6      andrea_rating          0.316139\n",
       "7     vanessa_rating          1.000000\n",
       "8       maria_rating         -0.291748\n",
       "9     eduardo_rating         -0.069824\n",
       "10     stefan_rating         -0.244444\n",
       "11       bill_rating         -0.555556"
      ]
     },
     "execution_count": 8,
     "metadata": {},
     "output_type": "execute_result"
    }
   ],
   "source": [
    "# Select only the correlations between the user and his contacts. \n",
    "corr_matrix['francisco_rating'].reset_index(level=0)"
   ]
  },
  {
   "cell_type": "code",
   "execution_count": 11,
   "metadata": {
    "scrolled": false
   },
   "outputs": [
    {
     "data": {
      "text/html": [
       "<div>\n",
       "<style scoped>\n",
       "    .dataframe tbody tr th:only-of-type {\n",
       "        vertical-align: middle;\n",
       "    }\n",
       "\n",
       "    .dataframe tbody tr th {\n",
       "        vertical-align: top;\n",
       "    }\n",
       "\n",
       "    .dataframe thead th {\n",
       "        text-align: right;\n",
       "    }\n",
       "</style>\n",
       "<table border=\"1\" class=\"dataframe\">\n",
       "  <thead>\n",
       "    <tr style=\"text-align: right;\">\n",
       "      <th></th>\n",
       "      <th>usuario</th>\n",
       "      <th>corr</th>\n",
       "    </tr>\n",
       "  </thead>\n",
       "  <tbody>\n",
       "    <tr>\n",
       "      <th>0</th>\n",
       "      <td>average_rating</td>\n",
       "      <td>0.236334</td>\n",
       "    </tr>\n",
       "    <tr>\n",
       "      <th>1</th>\n",
       "      <td>nicolas_rating</td>\n",
       "      <td>0.361499</td>\n",
       "    </tr>\n",
       "    <tr>\n",
       "      <th>2</th>\n",
       "      <td>fernando_rating</td>\n",
       "      <td>-0.191663</td>\n",
       "    </tr>\n",
       "    <tr>\n",
       "      <th>3</th>\n",
       "      <td>cova_rating</td>\n",
       "      <td>NaN</td>\n",
       "    </tr>\n",
       "    <tr>\n",
       "      <th>4</th>\n",
       "      <td>mario_rating</td>\n",
       "      <td>NaN</td>\n",
       "    </tr>\n",
       "    <tr>\n",
       "      <th>5</th>\n",
       "      <td>andrea_rating</td>\n",
       "      <td>0.316139</td>\n",
       "    </tr>\n",
       "    <tr>\n",
       "      <th>6</th>\n",
       "      <td>vanessa_rating</td>\n",
       "      <td>1.000000</td>\n",
       "    </tr>\n",
       "    <tr>\n",
       "      <th>7</th>\n",
       "      <td>maria_rating</td>\n",
       "      <td>-0.291748</td>\n",
       "    </tr>\n",
       "    <tr>\n",
       "      <th>8</th>\n",
       "      <td>eduardo_rating</td>\n",
       "      <td>-0.069824</td>\n",
       "    </tr>\n",
       "    <tr>\n",
       "      <th>9</th>\n",
       "      <td>stefan_rating</td>\n",
       "      <td>-0.244444</td>\n",
       "    </tr>\n",
       "    <tr>\n",
       "      <th>10</th>\n",
       "      <td>bill_rating</td>\n",
       "      <td>-0.555556</td>\n",
       "    </tr>\n",
       "  </tbody>\n",
       "</table>\n",
       "</div>"
      ],
      "text/plain": [
       "            usuario      corr\n",
       "0    average_rating  0.236334\n",
       "1    nicolas_rating  0.361499\n",
       "2   fernando_rating -0.191663\n",
       "3       cova_rating       NaN\n",
       "4      mario_rating       NaN\n",
       "5     andrea_rating  0.316139\n",
       "6    vanessa_rating  1.000000\n",
       "7      maria_rating -0.291748\n",
       "8    eduardo_rating -0.069824\n",
       "9     stefan_rating -0.244444\n",
       "10      bill_rating -0.555556"
      ]
     },
     "execution_count": 11,
     "metadata": {},
     "output_type": "execute_result"
    }
   ],
   "source": [
    "# Transform the user's correlations to a single DataFrame\n",
    "correlaciones = corr_matrix['francisco_rating']\n",
    "correlaciones = correlaciones.drop('francisco_rating', axis=0)\n",
    "correlaciones = correlaciones.reset_index(level=0)\n",
    "correlaciones = correlaciones.reset_index(drop=True)\n",
    "correlaciones = correlaciones.rename(columns={'index': 'usuario', 'francisco_rating': 'corr'})\n",
    "correlaciones"
   ]
  },
  {
   "cell_type": "markdown",
   "metadata": {},
   "source": [
    "There are some `NaN` values above. They probably indicate that the contact has no books in common with the user. In such case, let's assign them a correlation of cero. "
   ]
  },
  {
   "cell_type": "code",
   "execution_count": 12,
   "metadata": {
    "scrolled": false
   },
   "outputs": [
    {
     "data": {
      "text/html": [
       "<div>\n",
       "<style scoped>\n",
       "    .dataframe tbody tr th:only-of-type {\n",
       "        vertical-align: middle;\n",
       "    }\n",
       "\n",
       "    .dataframe tbody tr th {\n",
       "        vertical-align: top;\n",
       "    }\n",
       "\n",
       "    .dataframe thead th {\n",
       "        text-align: right;\n",
       "    }\n",
       "</style>\n",
       "<table border=\"1\" class=\"dataframe\">\n",
       "  <thead>\n",
       "    <tr style=\"text-align: right;\">\n",
       "      <th></th>\n",
       "      <th>usuario</th>\n",
       "      <th>corr</th>\n",
       "    </tr>\n",
       "  </thead>\n",
       "  <tbody>\n",
       "    <tr>\n",
       "      <th>0</th>\n",
       "      <td>average_rating</td>\n",
       "      <td>0.236334</td>\n",
       "    </tr>\n",
       "    <tr>\n",
       "      <th>1</th>\n",
       "      <td>nicolas_rating</td>\n",
       "      <td>0.361499</td>\n",
       "    </tr>\n",
       "    <tr>\n",
       "      <th>2</th>\n",
       "      <td>fernando_rating</td>\n",
       "      <td>-0.191663</td>\n",
       "    </tr>\n",
       "    <tr>\n",
       "      <th>3</th>\n",
       "      <td>cova_rating</td>\n",
       "      <td>0.000000</td>\n",
       "    </tr>\n",
       "    <tr>\n",
       "      <th>4</th>\n",
       "      <td>mario_rating</td>\n",
       "      <td>0.000000</td>\n",
       "    </tr>\n",
       "    <tr>\n",
       "      <th>5</th>\n",
       "      <td>andrea_rating</td>\n",
       "      <td>0.316139</td>\n",
       "    </tr>\n",
       "    <tr>\n",
       "      <th>6</th>\n",
       "      <td>vanessa_rating</td>\n",
       "      <td>1.000000</td>\n",
       "    </tr>\n",
       "    <tr>\n",
       "      <th>7</th>\n",
       "      <td>maria_rating</td>\n",
       "      <td>-0.291748</td>\n",
       "    </tr>\n",
       "    <tr>\n",
       "      <th>8</th>\n",
       "      <td>eduardo_rating</td>\n",
       "      <td>-0.069824</td>\n",
       "    </tr>\n",
       "    <tr>\n",
       "      <th>9</th>\n",
       "      <td>stefan_rating</td>\n",
       "      <td>-0.244444</td>\n",
       "    </tr>\n",
       "    <tr>\n",
       "      <th>10</th>\n",
       "      <td>bill_rating</td>\n",
       "      <td>-0.555556</td>\n",
       "    </tr>\n",
       "  </tbody>\n",
       "</table>\n",
       "</div>"
      ],
      "text/plain": [
       "            usuario      corr\n",
       "0    average_rating  0.236334\n",
       "1    nicolas_rating  0.361499\n",
       "2   fernando_rating -0.191663\n",
       "3       cova_rating  0.000000\n",
       "4      mario_rating  0.000000\n",
       "5     andrea_rating  0.316139\n",
       "6    vanessa_rating  1.000000\n",
       "7      maria_rating -0.291748\n",
       "8    eduardo_rating -0.069824\n",
       "9     stefan_rating -0.244444\n",
       "10      bill_rating -0.555556"
      ]
     },
     "execution_count": 12,
     "metadata": {},
     "output_type": "execute_result"
    }
   ],
   "source": [
    "correlaciones = correlaciones.fillna(0)\n",
    "correlaciones"
   ]
  },
  {
   "cell_type": "markdown",
   "metadata": {},
   "source": [
    "### 4.2 Stardardize ratings"
   ]
  },
  {
   "cell_type": "code",
   "execution_count": 13,
   "metadata": {
    "scrolled": false
   },
   "outputs": [
    {
     "data": {
      "text/html": [
       "<div>\n",
       "<style scoped>\n",
       "    .dataframe tbody tr th:only-of-type {\n",
       "        vertical-align: middle;\n",
       "    }\n",
       "\n",
       "    .dataframe tbody tr th {\n",
       "        vertical-align: top;\n",
       "    }\n",
       "\n",
       "    .dataframe thead th {\n",
       "        text-align: right;\n",
       "    }\n",
       "</style>\n",
       "<table border=\"1\" class=\"dataframe\">\n",
       "  <thead>\n",
       "    <tr style=\"text-align: right;\">\n",
       "      <th></th>\n",
       "      <th>usuario</th>\n",
       "      <th>mean</th>\n",
       "      <th>std</th>\n",
       "    </tr>\n",
       "  </thead>\n",
       "  <tbody>\n",
       "    <tr>\n",
       "      <th>0</th>\n",
       "      <td>average_rating</td>\n",
       "      <td>3.965016</td>\n",
       "      <td>0.306914</td>\n",
       "    </tr>\n",
       "    <tr>\n",
       "      <th>1</th>\n",
       "      <td>nicolas_rating</td>\n",
       "      <td>3.819149</td>\n",
       "      <td>0.983332</td>\n",
       "    </tr>\n",
       "    <tr>\n",
       "      <th>2</th>\n",
       "      <td>fernando_rating</td>\n",
       "      <td>3.931818</td>\n",
       "      <td>0.868285</td>\n",
       "    </tr>\n",
       "    <tr>\n",
       "      <th>3</th>\n",
       "      <td>cova_rating</td>\n",
       "      <td>4.857143</td>\n",
       "      <td>0.478091</td>\n",
       "    </tr>\n",
       "    <tr>\n",
       "      <th>4</th>\n",
       "      <td>mario_rating</td>\n",
       "      <td>3.966102</td>\n",
       "      <td>0.927847</td>\n",
       "    </tr>\n",
       "    <tr>\n",
       "      <th>5</th>\n",
       "      <td>andrea_rating</td>\n",
       "      <td>3.757282</td>\n",
       "      <td>0.856815</td>\n",
       "    </tr>\n",
       "    <tr>\n",
       "      <th>6</th>\n",
       "      <td>vanessa_rating</td>\n",
       "      <td>3.810811</td>\n",
       "      <td>1.081294</td>\n",
       "    </tr>\n",
       "    <tr>\n",
       "      <th>7</th>\n",
       "      <td>maria_rating</td>\n",
       "      <td>3.340909</td>\n",
       "      <td>0.914927</td>\n",
       "    </tr>\n",
       "    <tr>\n",
       "      <th>8</th>\n",
       "      <td>eduardo_rating</td>\n",
       "      <td>4.101796</td>\n",
       "      <td>1.015748</td>\n",
       "    </tr>\n",
       "    <tr>\n",
       "      <th>9</th>\n",
       "      <td>stefan_rating</td>\n",
       "      <td>3.732394</td>\n",
       "      <td>0.815762</td>\n",
       "    </tr>\n",
       "    <tr>\n",
       "      <th>10</th>\n",
       "      <td>bill_rating</td>\n",
       "      <td>3.538153</td>\n",
       "      <td>0.933014</td>\n",
       "    </tr>\n",
       "  </tbody>\n",
       "</table>\n",
       "</div>"
      ],
      "text/plain": [
       "            usuario      mean       std\n",
       "0    average_rating  3.965016  0.306914\n",
       "1    nicolas_rating  3.819149  0.983332\n",
       "2   fernando_rating  3.931818  0.868285\n",
       "3       cova_rating  4.857143  0.478091\n",
       "4      mario_rating  3.966102  0.927847\n",
       "5     andrea_rating  3.757282  0.856815\n",
       "6    vanessa_rating  3.810811  1.081294\n",
       "7      maria_rating  3.340909  0.914927\n",
       "8    eduardo_rating  4.101796  1.015748\n",
       "9     stefan_rating  3.732394  0.815762\n",
       "10      bill_rating  3.538153  0.933014"
      ]
     },
     "execution_count": 13,
     "metadata": {},
     "output_type": "execute_result"
    }
   ],
   "source": [
    "# Get the mean rating of each contact. \n",
    "avg_rating = data_corr.describe().T[['mean', 'std']][1:]\n",
    "avg_rating = avg_rating.reset_index(level=0).rename(columns={'index': 'usuario'})\n",
    "avg_rating"
   ]
  },
  {
   "cell_type": "markdown",
   "metadata": {},
   "source": [
    "Now, to adjust each rating according to the mean of a contact, we can assume that the distribution of the contacts' ratings is normal. Under this assumption, we can infer how many standard deviations a rating is from the mean (z-score). By doing so, it is possible to standardize the grade distributions of all users and compare them with each other."
   ]
  },
  {
   "cell_type": "code",
   "execution_count": 14,
   "metadata": {},
   "outputs": [],
   "source": [
    "def weighted_rating(columna_contacto, rating):\n",
    "\n",
    "    \"\"\"Adjusts a rating according to the contact's mean rating\"\"\"\n",
    "    \n",
    "    # Define variables\n",
    "    media = float(avg_rating.loc[avg_rating['usuario'] == columna_contacto, 'mean'])\n",
    "    std = float(avg_rating.loc[avg_rating['usuario'] == columna_contacto, 'mean'])\n",
    "    \n",
    "    #Calculate z-score\n",
    "    z_score = (rating - media) / std \n",
    "    \n",
    "    # Get weighted rating\n",
    "    weighted_rating = (rating + z_score) / rating\n",
    "    return weighted_rating"
   ]
  },
  {
   "cell_type": "markdown",
   "metadata": {},
   "source": [
    "Example:"
   ]
  },
  {
   "cell_type": "code",
   "execution_count": 15,
   "metadata": {},
   "outputs": [
    {
     "data": {
      "text/plain": [
       "1.0543352601156069"
      ]
     },
     "execution_count": 15,
     "metadata": {},
     "output_type": "execute_result"
    }
   ],
   "source": [
    "weighted_rating('fernando_rating', 5)"
   ]
  },
  {
   "cell_type": "markdown",
   "metadata": {},
   "source": [
    "### 4.3 Adjust contact's rating according to correlation with user"
   ]
  },
  {
   "cell_type": "markdown",
   "metadata": {},
   "source": [
    "Now, let's take the standardized rating and adjust it according to the corresponding correlation."
   ]
  },
  {
   "cell_type": "code",
   "execution_count": 16,
   "metadata": {},
   "outputs": [],
   "source": [
    "def correlation_weighted(columna_contacto, rating):  \n",
    "    \n",
    "    \"\"\"Adjusts weighted rating of a contact according to correlation with user\"\"\"\n",
    "    \n",
    "    # Check if we're dealing with a null rating\n",
    "    if np.isnan(rating):\n",
    "        return 0\n",
    "    \n",
    "    else: \n",
    "        # Define variables\n",
    "        weighted_rating = weighted_rating(columna_contacto, rating)\n",
    "        correlacion = correlaciones.loc[correlaciones['usuario'] == columna_contacto, 'corr']\n",
    "        \n",
    "        # Get weighted_rating adjusted for correlation\n",
    "        correlation_weighted = weighted_rating * correlacion\n",
    "              \n",
    "        return float(correlation_weighted)"
   ]
  },
  {
   "cell_type": "markdown",
   "metadata": {},
   "source": [
    "Example:"
   ]
  },
  {
   "cell_type": "code",
   "execution_count": 17,
   "metadata": {},
   "outputs": [
    {
     "data": {
      "text/plain": [
       "0.05960468698368633"
      ]
     },
     "execution_count": 17,
     "metadata": {},
     "output_type": "execute_result"
    }
   ],
   "source": [
    "correlation_weighted('average_rating', 1)"
   ]
  },
  {
   "cell_type": "markdown",
   "metadata": {},
   "source": [
    "### 4.4 Get recommendation score of a book"
   ]
  },
  {
   "cell_type": "markdown",
   "metadata": {},
   "source": [
    "Now that we have all of our functions, let's calculate a recommendation score for a book. "
   ]
  },
  {
   "cell_type": "code",
   "execution_count": 22,
   "metadata": {},
   "outputs": [],
   "source": [
    "def score_de_recomendacion(fila):\n",
    "    \n",
    "    \"\"\"Returns recommendation score for a book\"\"\"\n",
    "    \n",
    "    columnas_contactos = list(unread_data.columns)[3:]\n",
    "    score = 0\n",
    "    \n",
    "    for contacto in columnas_contactos:\n",
    "        x = unread_data.loc[fila, contacto]\n",
    "        x = correlation_weighted(contacto, x)\n",
    "        score += x\n",
    "        \n",
    "    return score"
   ]
  },
  {
   "cell_type": "markdown",
   "metadata": {},
   "source": [
    "Example:"
   ]
  },
  {
   "cell_type": "code",
   "execution_count": 23,
   "metadata": {
    "scrolled": true
   },
   "outputs": [
    {
     "data": {
      "text/plain": [
       "0.2389903632519042"
      ]
     },
     "execution_count": 23,
     "metadata": {},
     "output_type": "execute_result"
    }
   ],
   "source": [
    "score_de_recomendacion(298)"
   ]
  },
  {
   "cell_type": "markdown",
   "metadata": {},
   "source": [
    "### 4.5 Get recommendation score of all books"
   ]
  },
  {
   "cell_type": "code",
   "execution_count": 33,
   "metadata": {},
   "outputs": [],
   "source": [
    "columnas_contactos = list(unread_data.columns)[3:]\n",
    "data_final = unread_data.copy()"
   ]
  },
  {
   "cell_type": "code",
   "execution_count": 34,
   "metadata": {},
   "outputs": [],
   "source": [
    "for i in range(0, len(data_final)):\n",
    "    data_final.loc[i, 'score_de_recomendacion'] = score_de_recomendacion(i)"
   ]
  },
  {
   "cell_type": "code",
   "execution_count": 35,
   "metadata": {},
   "outputs": [
    {
     "data": {
      "text/html": [
       "<div>\n",
       "<style scoped>\n",
       "    .dataframe tbody tr th:only-of-type {\n",
       "        vertical-align: middle;\n",
       "    }\n",
       "\n",
       "    .dataframe tbody tr th {\n",
       "        vertical-align: top;\n",
       "    }\n",
       "\n",
       "    .dataframe thead th {\n",
       "        text-align: right;\n",
       "    }\n",
       "</style>\n",
       "<table border=\"1\" class=\"dataframe\">\n",
       "  <thead>\n",
       "    <tr style=\"text-align: right;\">\n",
       "      <th></th>\n",
       "      <th>title</th>\n",
       "      <th>author</th>\n",
       "      <th>francisco_rating</th>\n",
       "      <th>average_rating</th>\n",
       "      <th>nicolas_rating</th>\n",
       "      <th>fernando_rating</th>\n",
       "      <th>cova_rating</th>\n",
       "      <th>mario_rating</th>\n",
       "      <th>andrea_rating</th>\n",
       "      <th>vanessa_rating</th>\n",
       "      <th>maria_rating</th>\n",
       "      <th>eduardo_rating</th>\n",
       "      <th>stefan_rating</th>\n",
       "      <th>bill_rating</th>\n",
       "      <th>score_de_recomendacion</th>\n",
       "    </tr>\n",
       "  </thead>\n",
       "  <tbody>\n",
       "    <tr>\n",
       "      <th>0</th>\n",
       "      <td>12 Rules for Life: An Antidote to Chaos</td>\n",
       "      <td>Jordan B. Peterson</td>\n",
       "      <td>NaN</td>\n",
       "      <td>3.93</td>\n",
       "      <td>5.0</td>\n",
       "      <td>NaN</td>\n",
       "      <td>NaN</td>\n",
       "      <td>NaN</td>\n",
       "      <td>NaN</td>\n",
       "      <td>NaN</td>\n",
       "      <td>NaN</td>\n",
       "      <td>NaN</td>\n",
       "      <td>NaN</td>\n",
       "      <td>NaN</td>\n",
       "      <td>0.619656</td>\n",
       "    </tr>\n",
       "    <tr>\n",
       "      <th>1</th>\n",
       "      <td>21 Lessons for the 21st Century</td>\n",
       "      <td>Yuval Noah Harari</td>\n",
       "      <td>NaN</td>\n",
       "      <td>4.16</td>\n",
       "      <td>3.0</td>\n",
       "      <td>NaN</td>\n",
       "      <td>NaN</td>\n",
       "      <td>NaN</td>\n",
       "      <td>NaN</td>\n",
       "      <td>5.0</td>\n",
       "      <td>2.0</td>\n",
       "      <td>NaN</td>\n",
       "      <td>NaN</td>\n",
       "      <td>NaN</td>\n",
       "      <td>1.403993</td>\n",
       "    </tr>\n",
       "    <tr>\n",
       "      <th>2</th>\n",
       "      <td>After Europe</td>\n",
       "      <td>Ivan Krastev</td>\n",
       "      <td>NaN</td>\n",
       "      <td>4.11</td>\n",
       "      <td>4.0</td>\n",
       "      <td>NaN</td>\n",
       "      <td>NaN</td>\n",
       "      <td>NaN</td>\n",
       "      <td>NaN</td>\n",
       "      <td>NaN</td>\n",
       "      <td>NaN</td>\n",
       "      <td>NaN</td>\n",
       "      <td>NaN</td>\n",
       "      <td>NaN</td>\n",
       "      <td>0.604215</td>\n",
       "    </tr>\n",
       "  </tbody>\n",
       "</table>\n",
       "</div>"
      ],
      "text/plain": [
       "                                     title              author  \\\n",
       "0  12 Rules for Life: An Antidote to Chaos  Jordan B. Peterson   \n",
       "1          21 Lessons for the 21st Century   Yuval Noah Harari   \n",
       "2                             After Europe        Ivan Krastev   \n",
       "\n",
       "   francisco_rating  average_rating  nicolas_rating  fernando_rating  \\\n",
       "0               NaN            3.93             5.0              NaN   \n",
       "1               NaN            4.16             3.0              NaN   \n",
       "2               NaN            4.11             4.0              NaN   \n",
       "\n",
       "   cova_rating  mario_rating  andrea_rating  vanessa_rating  maria_rating  \\\n",
       "0          NaN           NaN            NaN             NaN           NaN   \n",
       "1          NaN           NaN            NaN             5.0           2.0   \n",
       "2          NaN           NaN            NaN             NaN           NaN   \n",
       "\n",
       "   eduardo_rating  stefan_rating  bill_rating  score_de_recomendacion  \n",
       "0             NaN            NaN          NaN                0.619656  \n",
       "1             NaN            NaN          NaN                1.403993  \n",
       "2             NaN            NaN          NaN                0.604215  "
      ]
     },
     "execution_count": 35,
     "metadata": {},
     "output_type": "execute_result"
    }
   ],
   "source": [
    "data_final.head(3)"
   ]
  },
  {
   "cell_type": "markdown",
   "metadata": {},
   "source": [
    "### 4.6 Final veredict"
   ]
  },
  {
   "cell_type": "markdown",
   "metadata": {},
   "source": [
    "Let's order the books, starting from the one with the highest recommendation score. "
   ]
  },
  {
   "cell_type": "code",
   "execution_count": 40,
   "metadata": {},
   "outputs": [
    {
     "data": {
      "text/html": [
       "<div>\n",
       "<style scoped>\n",
       "    .dataframe tbody tr th:only-of-type {\n",
       "        vertical-align: middle;\n",
       "    }\n",
       "\n",
       "    .dataframe tbody tr th {\n",
       "        vertical-align: top;\n",
       "    }\n",
       "\n",
       "    .dataframe thead th {\n",
       "        text-align: right;\n",
       "    }\n",
       "</style>\n",
       "<table border=\"1\" class=\"dataframe\">\n",
       "  <thead>\n",
       "    <tr style=\"text-align: right;\">\n",
       "      <th></th>\n",
       "      <th>title</th>\n",
       "      <th>author</th>\n",
       "      <th>francisco_rating</th>\n",
       "      <th>average_rating</th>\n",
       "      <th>nicolas_rating</th>\n",
       "      <th>fernando_rating</th>\n",
       "      <th>cova_rating</th>\n",
       "      <th>mario_rating</th>\n",
       "      <th>andrea_rating</th>\n",
       "      <th>vanessa_rating</th>\n",
       "      <th>maria_rating</th>\n",
       "      <th>eduardo_rating</th>\n",
       "      <th>stefan_rating</th>\n",
       "      <th>bill_rating</th>\n",
       "      <th>score_de_recomendacion</th>\n",
       "    </tr>\n",
       "  </thead>\n",
       "  <tbody>\n",
       "    <tr>\n",
       "      <th>0</th>\n",
       "      <td>Frankenstein: The 1818 Text</td>\n",
       "      <td>Mary Wollstonecraft Shelley</td>\n",
       "      <td>NaN</td>\n",
       "      <td>3.82</td>\n",
       "      <td>NaN</td>\n",
       "      <td>NaN</td>\n",
       "      <td>NaN</td>\n",
       "      <td>NaN</td>\n",
       "      <td>5.0</td>\n",
       "      <td>5.0</td>\n",
       "      <td>NaN</td>\n",
       "      <td>NaN</td>\n",
       "      <td>NaN</td>\n",
       "      <td>NaN</td>\n",
       "      <td>1.633533</td>\n",
       "    </tr>\n",
       "    <tr>\n",
       "      <th>1</th>\n",
       "      <td>Normal People</td>\n",
       "      <td>Sally Rooney</td>\n",
       "      <td>NaN</td>\n",
       "      <td>3.86</td>\n",
       "      <td>2.0</td>\n",
       "      <td>NaN</td>\n",
       "      <td>NaN</td>\n",
       "      <td>NaN</td>\n",
       "      <td>NaN</td>\n",
       "      <td>5.0</td>\n",
       "      <td>NaN</td>\n",
       "      <td>NaN</td>\n",
       "      <td>NaN</td>\n",
       "      <td>NaN</td>\n",
       "      <td>1.572527</td>\n",
       "    </tr>\n",
       "    <tr>\n",
       "      <th>2</th>\n",
       "      <td>21 Lessons for the 21st Century</td>\n",
       "      <td>Yuval Noah Harari</td>\n",
       "      <td>NaN</td>\n",
       "      <td>4.16</td>\n",
       "      <td>3.0</td>\n",
       "      <td>NaN</td>\n",
       "      <td>NaN</td>\n",
       "      <td>NaN</td>\n",
       "      <td>NaN</td>\n",
       "      <td>5.0</td>\n",
       "      <td>2.0</td>\n",
       "      <td>NaN</td>\n",
       "      <td>NaN</td>\n",
       "      <td>NaN</td>\n",
       "      <td>1.403993</td>\n",
       "    </tr>\n",
       "    <tr>\n",
       "      <th>3</th>\n",
       "      <td>Las batallas en el desierto</td>\n",
       "      <td>José Emilio Pacheco</td>\n",
       "      <td>NaN</td>\n",
       "      <td>4.13</td>\n",
       "      <td>NaN</td>\n",
       "      <td>5.0</td>\n",
       "      <td>NaN</td>\n",
       "      <td>NaN</td>\n",
       "      <td>4.0</td>\n",
       "      <td>4.0</td>\n",
       "      <td>NaN</td>\n",
       "      <td>NaN</td>\n",
       "      <td>NaN</td>\n",
       "      <td>NaN</td>\n",
       "      <td>1.370293</td>\n",
       "    </tr>\n",
       "    <tr>\n",
       "      <th>4</th>\n",
       "      <td>Las mujeres que luchan se encuentran: Manual d...</td>\n",
       "      <td>Catalina Ruiz-Navarro</td>\n",
       "      <td>NaN</td>\n",
       "      <td>4.52</td>\n",
       "      <td>NaN</td>\n",
       "      <td>NaN</td>\n",
       "      <td>NaN</td>\n",
       "      <td>NaN</td>\n",
       "      <td>NaN</td>\n",
       "      <td>5.0</td>\n",
       "      <td>NaN</td>\n",
       "      <td>NaN</td>\n",
       "      <td>NaN</td>\n",
       "      <td>NaN</td>\n",
       "      <td>1.306063</td>\n",
       "    </tr>\n",
       "  </tbody>\n",
       "</table>\n",
       "</div>"
      ],
      "text/plain": [
       "                                               title  \\\n",
       "0                        Frankenstein: The 1818 Text   \n",
       "1                                      Normal People   \n",
       "2                    21 Lessons for the 21st Century   \n",
       "3                        Las batallas en el desierto   \n",
       "4  Las mujeres que luchan se encuentran: Manual d...   \n",
       "\n",
       "                        author  francisco_rating  average_rating  \\\n",
       "0  Mary Wollstonecraft Shelley               NaN            3.82   \n",
       "1                 Sally Rooney               NaN            3.86   \n",
       "2            Yuval Noah Harari               NaN            4.16   \n",
       "3          José Emilio Pacheco               NaN            4.13   \n",
       "4        Catalina Ruiz-Navarro               NaN            4.52   \n",
       "\n",
       "   nicolas_rating  fernando_rating  cova_rating  mario_rating  andrea_rating  \\\n",
       "0             NaN              NaN          NaN           NaN            5.0   \n",
       "1             2.0              NaN          NaN           NaN            NaN   \n",
       "2             3.0              NaN          NaN           NaN            NaN   \n",
       "3             NaN              5.0          NaN           NaN            4.0   \n",
       "4             NaN              NaN          NaN           NaN            NaN   \n",
       "\n",
       "   vanessa_rating  maria_rating  eduardo_rating  stefan_rating  bill_rating  \\\n",
       "0             5.0           NaN             NaN            NaN          NaN   \n",
       "1             5.0           NaN             NaN            NaN          NaN   \n",
       "2             5.0           2.0             NaN            NaN          NaN   \n",
       "3             4.0           NaN             NaN            NaN          NaN   \n",
       "4             5.0           NaN             NaN            NaN          NaN   \n",
       "\n",
       "   score_de_recomendacion  \n",
       "0                1.633533  \n",
       "1                1.572527  \n",
       "2                1.403993  \n",
       "3                1.370293  \n",
       "4                1.306063  "
      ]
     },
     "execution_count": 40,
     "metadata": {},
     "output_type": "execute_result"
    }
   ],
   "source": [
    "top_5 = data_final.sort_values(by='score_de_recomendacion', ascending=False).head()\n",
    "top_5 = top_5.reset_index(drop=True)\n",
    "top_5"
   ]
  },
  {
   "cell_type": "markdown",
   "metadata": {},
   "source": [
    "In sum, according to our recommendation score, these are the books I should read next:"
   ]
  },
  {
   "cell_type": "code",
   "execution_count": 41,
   "metadata": {},
   "outputs": [
    {
     "name": "stdout",
     "output_type": "stream",
     "text": [
      "- 1: Frankenstein: The 1818 Text - Mary Wollstonecraft Shelley\n",
      "- 2: Normal People - Sally Rooney\n",
      "- 3: 21 Lessons for the 21st Century - Yuval Noah Harari\n",
      "- 4: Las batallas en el desierto - José Emilio Pacheco\n",
      "- 5: Las mujeres que luchan se encuentran: Manual de feminismo pop latinoamericano - Catalina Ruiz-Navarro\n"
     ]
    }
   ],
   "source": [
    "for i in range(len(top_5)):\n",
    "    libro = top_5.iloc[i, 0]\n",
    "    autor = top_5.iloc[i, 1]\n",
    "    print(f\"- {i+1}: {libro} - {autor}\")"
   ]
  }
 ],
 "metadata": {
  "kernelspec": {
   "display_name": "Python 3",
   "language": "python",
   "name": "python3"
  },
  "language_info": {
   "codemirror_mode": {
    "name": "ipython",
    "version": 3
   },
   "file_extension": ".py",
   "mimetype": "text/x-python",
   "name": "python",
   "nbconvert_exporter": "python",
   "pygments_lexer": "ipython3",
   "version": "3.8.5"
  }
 },
 "nbformat": 4,
 "nbformat_minor": 4
}
